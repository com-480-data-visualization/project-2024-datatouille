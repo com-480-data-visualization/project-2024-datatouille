{
 "cells": [
  {
   "cell_type": "markdown",
   "metadata": {},
   "source": [
    "# Data Visualization Milestone 1 EDA Notebook"
   ]
  },
  {
   "cell_type": "code",
   "execution_count": 1,
   "metadata": {},
   "outputs": [
    {
     "name": "stdout",
     "output_type": "stream",
     "text": [
      "29-Mar-2024 Fri Notebook\n",
      "Lausanne Time :  00:17:40\n"
     ]
    }
   ],
   "source": [
    "import pandas as pd\n",
    "import numpy as np\n",
    "import json\n",
    "import gzip as gunzip\n",
    "from matplotlib import pyplot as plt\n",
    "import seaborn as sns\n",
    "pd.set_option('display.max_columns', 5000)\n",
    "pd.set_option('display.max_rows', 5000)\n",
    "from datetime import datetime\n",
    "import pytz\n",
    "import ast \n",
    "print(datetime.today().strftime(\"%d-%b-%Y %a\"), \"Notebook\")\n",
    "tz_Suisse = pytz.timezone('Europe/Zurich')\n",
    "current_time= datetime.now(tz_Suisse)\n",
    "print(\"Lausanne Time : \", current_time.strftime(\"%H:%M:%S\"))"
   ]
  },
  {
   "cell_type": "markdown",
   "metadata": {},
   "source": [
    "# Michelin Guide Dataset"
   ]
  },
  {
   "cell_type": "markdown",
   "metadata": {},
   "source": [
    "The dataset consists of **6794 rows**, each representing a unique Michelin-starred restaurant. \n",
    "\n",
    "This dataset encompasses **13 columns** which provide various details about the restaurants such as:\n",
    "\n",
    "- `Name`\n",
    "- `Address`\n",
    "- `Location`\n",
    "- `Price`\n",
    "- `Cuisine`\n",
    "- `Longitude`\n",
    "- `Latitude`\n",
    "- `PhoneNumber`\n",
    "- `Url`\n",
    "- `WebsiteUrl`\n",
    "- `Award`   (Michelin star count and a special Bib Gourmand status)\n",
    "- `FacilitiesAndServices`\n",
    "- `Description` (taken from the Michelin Guide Website)"
   ]
  },
  {
   "cell_type": "code",
   "execution_count": 2,
   "metadata": {},
   "outputs": [
    {
     "data": {
      "text/html": [
       "<div>\n",
       "<style scoped>\n",
       "    .dataframe tbody tr th:only-of-type {\n",
       "        vertical-align: middle;\n",
       "    }\n",
       "\n",
       "    .dataframe tbody tr th {\n",
       "        vertical-align: top;\n",
       "    }\n",
       "\n",
       "    .dataframe thead th {\n",
       "        text-align: right;\n",
       "    }\n",
       "</style>\n",
       "<table border=\"1\" class=\"dataframe\">\n",
       "  <thead>\n",
       "    <tr style=\"text-align: right;\">\n",
       "      <th></th>\n",
       "      <th>Name</th>\n",
       "      <th>Address</th>\n",
       "      <th>Location</th>\n",
       "      <th>Price</th>\n",
       "      <th>Cuisine</th>\n",
       "      <th>Longitude</th>\n",
       "      <th>Latitude</th>\n",
       "      <th>PhoneNumber</th>\n",
       "      <th>Url</th>\n",
       "      <th>WebsiteUrl</th>\n",
       "      <th>Award</th>\n",
       "      <th>FacilitiesAndServices</th>\n",
       "      <th>Description</th>\n",
       "    </tr>\n",
       "  </thead>\n",
       "  <tbody>\n",
       "    <tr>\n",
       "      <th>0</th>\n",
       "      <td>L'OSIER</td>\n",
       "      <td>7-5-5 Ginza, Chuo-ku, Tokyo, 104-0061, Japan</td>\n",
       "      <td>Tokyo, Japan</td>\n",
       "      <td>¥¥¥¥</td>\n",
       "      <td>French, Contemporary</td>\n",
       "      <td>139.761203</td>\n",
       "      <td>35.669667</td>\n",
       "      <td>8.133572e+10</td>\n",
       "      <td>https://guide.michelin.com/en/tokyo-region/tok...</td>\n",
       "      <td>https://losier.shiseido.co.jp/</td>\n",
       "      <td>3 Stars</td>\n",
       "      <td>Air conditioning,Car park,Interesting wine list</td>\n",
       "      <td>In 2023 L’OSIER celebrated the 50th anniversar...</td>\n",
       "    </tr>\n",
       "    <tr>\n",
       "      <th>1</th>\n",
       "      <td>Azabu Kadowaki</td>\n",
       "      <td>2-7-2 Azabujuban, Minato-ku, Tokyo, 106-0045, ...</td>\n",
       "      <td>Tokyo, Japan</td>\n",
       "      <td>¥¥¥¥</td>\n",
       "      <td>Japanese</td>\n",
       "      <td>139.733551</td>\n",
       "      <td>35.655993</td>\n",
       "      <td>8.135772e+10</td>\n",
       "      <td>https://guide.michelin.com/en/tokyo-region/tok...</td>\n",
       "      <td>NaN</td>\n",
       "      <td>3 Stars</td>\n",
       "      <td>Air conditioning,Counter dining</td>\n",
       "      <td>Toshiya Kadowaki’s aim is to serve up “unforge...</td>\n",
       "    </tr>\n",
       "    <tr>\n",
       "      <th>2</th>\n",
       "      <td>Kohaku</td>\n",
       "      <td>3-4 Kagurazaka, Shinjuku-ku, Tokyo, 162-0825, ...</td>\n",
       "      <td>Tokyo, Japan</td>\n",
       "      <td>¥¥¥¥</td>\n",
       "      <td>Japanese</td>\n",
       "      <td>139.741008</td>\n",
       "      <td>35.700701</td>\n",
       "      <td>8.150314e+11</td>\n",
       "      <td>https://guide.michelin.com/en/tokyo-region/tok...</td>\n",
       "      <td>http://kagurazaka-kohaku.jp/</td>\n",
       "      <td>3 Stars</td>\n",
       "      <td>Air conditioning,Counter dining,Interesting wi...</td>\n",
       "      <td>Koji Koizumi creates a cuisine all his own as ...</td>\n",
       "    </tr>\n",
       "    <tr>\n",
       "      <th>3</th>\n",
       "      <td>Harutaka</td>\n",
       "      <td>6F, 8-3-1 Ginza, Chuo-ku, Tokyo, 104-0061, Japan</td>\n",
       "      <td>Tokyo, Japan</td>\n",
       "      <td>¥¥¥¥</td>\n",
       "      <td>Sushi</td>\n",
       "      <td>139.759203</td>\n",
       "      <td>35.669269</td>\n",
       "      <td>8.133573e+10</td>\n",
       "      <td>https://guide.michelin.com/en/tokyo-region/tok...</td>\n",
       "      <td>NaN</td>\n",
       "      <td>3 Stars</td>\n",
       "      <td>Air conditioning,Counter dining</td>\n",
       "      <td>Sometimes our connections intervene to change ...</td>\n",
       "    </tr>\n",
       "    <tr>\n",
       "      <th>4</th>\n",
       "      <td>Kanda</td>\n",
       "      <td>1F, Toranomon Hills Residential Tower, 1-1-1 A...</td>\n",
       "      <td>Tokyo, Japan</td>\n",
       "      <td>¥¥¥¥</td>\n",
       "      <td>Japanese</td>\n",
       "      <td>139.748000</td>\n",
       "      <td>35.665800</td>\n",
       "      <td>8.136459e+10</td>\n",
       "      <td>https://guide.michelin.com/en/tokyo-region/tok...</td>\n",
       "      <td>http://www.nihonryori-kanda.com/</td>\n",
       "      <td>3 Stars</td>\n",
       "      <td>Air conditioning,Counter dining,Interesting wi...</td>\n",
       "      <td>Hiroyuki Kanda understands the essence of Japa...</td>\n",
       "    </tr>\n",
       "  </tbody>\n",
       "</table>\n",
       "</div>"
      ],
      "text/plain": [
       "             Name                                            Address  \\\n",
       "0         L'OSIER       7-5-5 Ginza, Chuo-ku, Tokyo, 104-0061, Japan   \n",
       "1  Azabu Kadowaki  2-7-2 Azabujuban, Minato-ku, Tokyo, 106-0045, ...   \n",
       "2          Kohaku  3-4 Kagurazaka, Shinjuku-ku, Tokyo, 162-0825, ...   \n",
       "3        Harutaka   6F, 8-3-1 Ginza, Chuo-ku, Tokyo, 104-0061, Japan   \n",
       "4           Kanda  1F, Toranomon Hills Residential Tower, 1-1-1 A...   \n",
       "\n",
       "       Location Price               Cuisine   Longitude   Latitude  \\\n",
       "0  Tokyo, Japan  ¥¥¥¥  French, Contemporary  139.761203  35.669667   \n",
       "1  Tokyo, Japan  ¥¥¥¥              Japanese  139.733551  35.655993   \n",
       "2  Tokyo, Japan  ¥¥¥¥              Japanese  139.741008  35.700701   \n",
       "3  Tokyo, Japan  ¥¥¥¥                 Sushi  139.759203  35.669269   \n",
       "4  Tokyo, Japan  ¥¥¥¥              Japanese  139.748000  35.665800   \n",
       "\n",
       "    PhoneNumber                                                Url  \\\n",
       "0  8.133572e+10  https://guide.michelin.com/en/tokyo-region/tok...   \n",
       "1  8.135772e+10  https://guide.michelin.com/en/tokyo-region/tok...   \n",
       "2  8.150314e+11  https://guide.michelin.com/en/tokyo-region/tok...   \n",
       "3  8.133573e+10  https://guide.michelin.com/en/tokyo-region/tok...   \n",
       "4  8.136459e+10  https://guide.michelin.com/en/tokyo-region/tok...   \n",
       "\n",
       "                         WebsiteUrl    Award  \\\n",
       "0    https://losier.shiseido.co.jp/  3 Stars   \n",
       "1                               NaN  3 Stars   \n",
       "2      http://kagurazaka-kohaku.jp/  3 Stars   \n",
       "3                               NaN  3 Stars   \n",
       "4  http://www.nihonryori-kanda.com/  3 Stars   \n",
       "\n",
       "                               FacilitiesAndServices  \\\n",
       "0    Air conditioning,Car park,Interesting wine list   \n",
       "1                    Air conditioning,Counter dining   \n",
       "2  Air conditioning,Counter dining,Interesting wi...   \n",
       "3                    Air conditioning,Counter dining   \n",
       "4  Air conditioning,Counter dining,Interesting wi...   \n",
       "\n",
       "                                         Description  \n",
       "0  In 2023 L’OSIER celebrated the 50th anniversar...  \n",
       "1  Toshiya Kadowaki’s aim is to serve up “unforge...  \n",
       "2  Koji Koizumi creates a cuisine all his own as ...  \n",
       "3  Sometimes our connections intervene to change ...  \n",
       "4  Hiroyuki Kanda understands the essence of Japa...  "
      ]
     },
     "execution_count": 2,
     "metadata": {},
     "output_type": "execute_result"
    }
   ],
   "source": [
    "# Reading data\n",
    "michelin_df = pd.read_csv(\n",
    "    \"/Users/ilkergul/Documents/EPFL/MA4/Data_visualization/com-480-project-datatouille/data/michelin_my_maps.csv\")\n",
    "\n",
    "michelin_df.head()"
   ]
  },
  {
   "cell_type": "code",
   "execution_count": 3,
   "metadata": {},
   "outputs": [
    {
     "name": "stdout",
     "output_type": "stream",
     "text": [
      "(6794, 13)\n"
     ]
    }
   ],
   "source": [
    "# shape of the DataFrame\n",
    "print(michelin_df.shape)"
   ]
  },
  {
   "cell_type": "code",
   "execution_count": 4,
   "metadata": {},
   "outputs": [
    {
     "name": "stdout",
     "output_type": "stream",
     "text": [
      "Name                                                               L'OSIER\n",
      "Address                       7-5-5 Ginza, Chuo-ku, Tokyo, 104-0061, Japan\n",
      "Location                                                      Tokyo, Japan\n",
      "Price                                                                 ¥¥¥¥\n",
      "Cuisine                                               French, Contemporary\n",
      "Longitude                                                       139.761203\n",
      "Latitude                                                         35.669667\n",
      "PhoneNumber                                                  81335716050.0\n",
      "Url                      https://guide.michelin.com/en/tokyo-region/tok...\n",
      "WebsiteUrl                                  https://losier.shiseido.co.jp/\n",
      "Award                                                              3 Stars\n",
      "FacilitiesAndServices      Air conditioning,Car park,Interesting wine list\n",
      "Description              In 2023 L’OSIER celebrated the 50th anniversar...\n",
      "Name: 0, dtype: object\n"
     ]
    }
   ],
   "source": [
    "print(michelin_df.iloc[0])"
   ]
  },
  {
   "cell_type": "markdown",
   "metadata": {},
   "source": [
    "**Let's check how many null entries available in our michelin guide dataset**"
   ]
  },
  {
   "cell_type": "code",
   "execution_count": 5,
   "metadata": {},
   "outputs": [
    {
     "data": {
      "text/plain": [
       "Name                        0\n",
       "Address                     0\n",
       "Location                    0\n",
       "Price                       2\n",
       "Cuisine                     0\n",
       "Longitude                   0\n",
       "Latitude                    0\n",
       "PhoneNumber               159\n",
       "Url                         0\n",
       "WebsiteUrl               1242\n",
       "Award                       0\n",
       "FacilitiesAndServices     234\n",
       "Description                 0\n",
       "dtype: int64"
      ]
     },
     "execution_count": 5,
     "metadata": {},
     "output_type": "execute_result"
    }
   ],
   "source": [
    "michelin_df.isna().sum()"
   ]
  },
  {
   "cell_type": "markdown",
   "metadata": {},
   "source": [
    "The dataset appears to be comprehensive with essential attributes like `Name`, `Address`, `Location`, and `Cuisine` present for every entry, ensuring a solid foundation for analysis of the Michelin Guide establishments. \n",
    "\n",
    "The absence of `PhoneNumber` and `WebsiteUrl` in several entries could be due to various factors, such as newer restaurants not yet having established online presence or certain establishments opting for privacy. \n",
    "\n",
    "Additionally, the lack of details in `FacilitiesAndServices` for some listings might indicate that not all restaurants have provided full information, or it could reflect variances in data collection processes."
   ]
  },
  {
   "cell_type": "code",
   "execution_count": 6,
   "metadata": {},
   "outputs": [
    {
     "data": {
      "text/plain": [
       "Bib Gourmand    3333\n",
       "1 Star          2844\n",
       "2 Stars          474\n",
       "3 Stars          143\n",
       "Name: Award, dtype: int64"
      ]
     },
     "execution_count": 6,
     "metadata": {},
     "output_type": "execute_result"
    }
   ],
   "source": [
    "# award distribution\n",
    "michelin_df.Award.value_counts()"
   ]
  },
  {
   "cell_type": "code",
   "execution_count": 7,
   "metadata": {},
   "outputs": [
    {
     "data": {
      "text/plain": [
       "Tokyo, Japan                      309\n",
       "Kyoto, Japan                      193\n",
       "Osaka, Japan                      189\n",
       "New York, USA                     156\n",
       "Paris, France                     156\n",
       "Singapore                         132\n",
       "London, United Kingdom            106\n",
       "Hong Kong                          89\n",
       "Seoul, South Korea                 89\n",
       "Bangkok, Thailand                  87\n",
       "Taipei, Taiwan                     80\n",
       "Shanghai, China Mainland           77\n",
       "Chicago, USA                       67\n",
       "Guangzhou, China Mainland          61\n",
       "Washington, USA                    54\n",
       "Beijing, China Mainland            53\n",
       "Hong Kong, Hong Kong SAR China     50\n",
       "Madrid, Spain                      43\n",
       "San Francisco, USA                 42\n",
       "Nara, Japan                        42\n",
       "Name: Location, dtype: int64"
      ]
     },
     "execution_count": 7,
     "metadata": {},
     "output_type": "execute_result"
    }
   ],
   "source": [
    "# Locational Distribution\n",
    "michelin_df.Location.value_counts()[:20]"
   ]
  },
  {
   "cell_type": "markdown",
   "metadata": {},
   "source": [
    "The dataset contains two different representations of \"Hong Kong\":\n",
    "- \"Hong Kong, Hong Kong SAR China\"\n",
    "- \"Hong Kong\"\n",
    "\n",
    "To ensure consistency, we are converting all occurrences of \"Hong Kong\" to \"Hong Kong, Hong Kong SAR China\"."
   ]
  },
  {
   "cell_type": "code",
   "execution_count": 8,
   "metadata": {},
   "outputs": [
    {
     "data": {
      "text/plain": [
       "Bib Gourmand    64\n",
       "1 Star          56\n",
       "2 Stars         12\n",
       "3 Stars          7\n",
       "Name: Award, dtype: int64"
      ]
     },
     "execution_count": 8,
     "metadata": {},
     "output_type": "execute_result"
    }
   ],
   "source": [
    "# Exact match replacement\n",
    "michelin_df.loc[michelin_df['Location'] == 'Hong Kong', 'Location'] = 'Hong Kong, Hong Kong SAR China'\n",
    "\n",
    "# To ensure that any variation of 'Hong Kong' including those with trailing spaces are also replaced\n",
    "# You can use .str.replace() for a pattern match and replace\n",
    "michelin_df['Location'] = michelin_df['Location'].str.replace(r'^Hong Kong$', 'Hong Kong, Hong Kong SAR China', regex=True)\n",
    "\n",
    "# Filter rows where the Location includes 'Hong Kong'\n",
    "hong_kong_rows = michelin_df[michelin_df.Location.str.contains(\"Hong Kong\")]\n",
    "\n",
    "# Display the filtered rows\n",
    "hong_kong_rows.Award.value_counts()"
   ]
  },
  {
   "cell_type": "markdown",
   "metadata": {},
   "source": [
    "## EDA Step 1: Country"
   ]
  },
  {
   "cell_type": "markdown",
   "metadata": {},
   "source": [
    "The `Location` column contains entries in the format \"City, Country\". To extract the country information, we split each entry by comma and select the last part. This step allows us to isolate the country name.\n",
    "\n",
    "However, certain entries require special handling:\n",
    "- \"Abu Dhabi\" and \"Dubai\" are both cities in the United Arab Emirates, so we replace them with \"United Arab Emirates\" to maintain consistency.\n",
    "- \"Macau\" is a Special Administrative Region (SAR) of China, so we replace it with \"Macau SAR China\" for accuracy.\n",
    "- \"Czechia\" is the formal short name for the Czech Republic, so we replace it accordingly to use easily in visualizations.\n",
    "\n",
    "These adjustments ensure uniformity and accuracy in the representation of countries across the dataset.\n",
    "\n"
   ]
  },
  {
   "cell_type": "code",
   "execution_count": 9,
   "metadata": {},
   "outputs": [],
   "source": [
    "# Split the Location by comma and select the last part for the Country\n",
    "michelin_df['Country'] = michelin_df['Location'].str.split(', ').str[-1]\n",
    "michelin_df['Country'] = michelin_df['Country'].replace('Abu Dhabi', 'United Arab Emirates')\n",
    "michelin_df['Country'] = michelin_df['Country'].replace('Dubai', 'United Arab Emirates')\n",
    "michelin_df['Country'] = michelin_df['Country'].replace('Macau', 'Macau SAR China')\n",
    "michelin_df['Country'] = michelin_df['Country'].replace('Czechia', 'Czech Republic')\n",
    "\n",
    "# Extended mapping of country names to their flag emojis\n",
    "flag_emojis = {\n",
    "    'France': '🇫🇷',\n",
    "    'Japan': '🇯🇵',\n",
    "    'Italy': '🇮🇹',\n",
    "    'USA': '🇺🇸',\n",
    "    'Germany': '🇩🇪',\n",
    "    'Spain': '🇪🇸',\n",
    "    'United Kingdom': '🇬🇧',\n",
    "    'Belgium': '🇧🇪',\n",
    "    'Switzerland': '🇨🇭',\n",
    "    'China Mainland': '🇨🇳',\n",
    "    'Thailand': '🇹🇭',\n",
    "    'Netherlands': '🇳🇱',\n",
    "    'Taiwan': '🇹🇼',\n",
    "    'Hong Kong SAR China': '🇭🇰',\n",
    "    'Singapore': '🇸🇬',\n",
    "    'South Korea': '🇰🇷',\n",
    "    'Portugal': '🇵🇹',\n",
    "    'Canada': '🇨🇦',\n",
    "    'Malaysia': '🇲🇾',\n",
    "    'Brazil': '🇧🇷',\n",
    "    'Denmark': '🇩🇰',\n",
    "    'United Arab Emirates': '🇦🇪',\n",
    "    'Türkiye': '🇹🇷',\n",
    "    'Vietnam': '🇻🇳',\n",
    "    'Ireland': '🇮🇪',\n",
    "    'Sweden': '🇸🇪',\n",
    "    'Austria': '🇦🇹',\n",
    "    'Croatia': '🇭🇷',\n",
    "    'Macau SAR China': '🇲🇴',\n",
    "    'Norway': '🇳🇴',\n",
    "    'Greece': '🇬🇷',\n",
    "    'Slovenia': '🇸🇮',\n",
    "    'Luxembourg': '🇱🇺',\n",
    "    'Hungary': '🇭🇺',\n",
    "    'Argentina': '🇦🇷',\n",
    "    'Poland': '🇵🇱',\n",
    "    'Malta': '🇲🇹',\n",
    "    'Finland': '🇫🇮',\n",
    "    'Estonia': '🇪🇪',\n",
    "    'Latvia': '🇱🇻',\n",
    "    'Iceland': '🇮🇸',\n",
    "    'Czech Republic': '🇨🇿',  # Note: Czechia and Czech Republic are the same\n",
    "    'Serbia': '🇷🇸',\n",
    "    'Andorra': '🇦🇩',\n",
    "}\n",
    "\n",
    "# Get the value counts of the countries and convert it to a DataFrame for Plotly\n",
    "country_counts_df = michelin_df['Country'].value_counts().reset_index()\n",
    "country_counts_df.columns = ['Country', 'Restaurant Count']\n",
    "\n",
    "# Ensure the DataFrame is sorted by 'Restaurant Count' for better visual appearance\n",
    "country_counts_df = country_counts_df.sort_values('Restaurant Count', ascending=False)\n",
    "# Assume 'country_counts_df' has 'Country' column from your dataset\n",
    "country_counts_df['Country With Flag'] = country_counts_df['Country'].apply(lambda x: f\"{flag_emojis.get(x, '')} {x}\")"
   ]
  },
  {
   "cell_type": "markdown",
   "metadata": {},
   "source": [
    "We created two visualizations based on the Michelin Guide dataset with respect to `Country`:\n",
    "\n",
    "1. Interactive Visualization:\n",
    "   We developed an interactive visualization using Plotly This visualization offers dynamic features such as hover interactions and zoom capabilities. To interact with this visualization, you need to clone the repository and run the notebook locally.\n",
    "\n",
    "2. Static Visualization:\n",
    "   In addition to the interactive visualization, we also generated a static visualization using Matplotlib and Seaborn. This static visualization is included directly in the notebook and can be viewed easily on GitHub or any Markdown viewer without the need for additional setup."
   ]
  },
  {
   "cell_type": "markdown",
   "metadata": {},
   "source": [
    "### Interactive Visualization for Country"
   ]
  },
  {
   "cell_type": "code",
   "execution_count": 10,
   "metadata": {},
   "outputs": [
    {
     "data": {
      "application/vnd.plotly.v1+json": {
       "config": {
        "plotlyServerURL": "https://plot.ly"
       },
       "data": [
        {
         "alignmentgroup": "True",
         "customdata": [
          "🇫🇷",
          "🇯🇵",
          "🇮🇹",
          "🇺🇸",
          "🇩🇪",
          "🇪🇸",
          "🇬🇧",
          "🇧🇪",
          "🇨🇭",
          "🇨🇳",
          "🇹🇭",
          "🇳🇱",
          "🇹🇼",
          "🇭🇰",
          "🇸🇬",
          "🇰🇷",
          "🇵🇹",
          "🇨🇦",
          "🇲🇾",
          "🇧🇷",
          "🇩🇰",
          "🇦🇪",
          "🇹🇷",
          "🇻🇳",
          "🇮🇪",
          "🇸🇪",
          "🇦🇹",
          "🇭🇷",
          "🇲🇴",
          "🇳🇴",
          "🇬🇷",
          "🇸🇮",
          "🇱🇺",
          "🇭🇺",
          "🇦🇷",
          "🇵🇱",
          "🇲🇹",
          "🇫🇮",
          "🇪🇪",
          "🇨🇿",
          "🇱🇻",
          "🇮🇸",
          "🇷🇸",
          "🇦🇩"
         ],
         "hovertemplate": "<b>Country:</b> %{y} %{customdata}<br><b>Restaurant Count:</b> %{x}<extra></extra>",
         "legendgroup": "",
         "marker": {
          "color": [
           1016,
           733,
           651,
           600,
           581,
           500,
           275,
           270,
           257,
           242,
           231,
           219,
           182,
           139,
           132,
           89,
           73,
           61,
           50,
           47,
           47,
           41,
           38,
           33,
           33,
           29,
           25,
           25,
           22,
           21,
           17,
           16,
           16,
           15,
           14,
           10,
           10,
           9,
           8,
           7,
           4,
           3,
           2,
           1
          ],
          "coloraxis": "coloraxis",
          "line": {
           "color": "#EAEAEA",
           "width": 1
          },
          "pattern": {
           "shape": ""
          }
         },
         "name": "",
         "offsetgroup": "",
         "orientation": "h",
         "showlegend": false,
         "textposition": "auto",
         "type": "bar",
         "x": [
          1016,
          733,
          651,
          600,
          581,
          500,
          275,
          270,
          257,
          242,
          231,
          219,
          182,
          139,
          132,
          89,
          73,
          61,
          50,
          47,
          47,
          41,
          38,
          33,
          33,
          29,
          25,
          25,
          22,
          21,
          17,
          16,
          16,
          15,
          14,
          10,
          10,
          9,
          8,
          7,
          4,
          3,
          2,
          1
         ],
         "xaxis": "x",
         "y": [
          "France",
          "Japan",
          "Italy",
          "USA",
          "Germany",
          "Spain",
          "United Kingdom",
          "Belgium",
          "Switzerland",
          "China Mainland",
          "Thailand",
          "Netherlands",
          "Taiwan",
          "Hong Kong SAR China",
          "Singapore",
          "South Korea",
          "Portugal",
          "Canada",
          "Malaysia",
          "Brazil",
          "Denmark",
          "United Arab Emirates",
          "Türkiye",
          "Vietnam",
          "Ireland",
          "Sweden",
          "Austria",
          "Croatia",
          "Macau SAR China",
          "Norway",
          "Greece",
          "Slovenia",
          "Luxembourg",
          "Hungary",
          "Argentina",
          "Poland",
          "Malta",
          "Finland",
          "Estonia",
          "Czech Republic",
          "Latvia",
          "Iceland",
          "Serbia",
          "Andorra"
         ],
         "yaxis": "y"
        }
       ],
       "layout": {
        "barmode": "relative",
        "coloraxis": {
         "colorbar": {
          "title": {
           "text": "Restaurant Count"
          }
         },
         "colorscale": [
          [
           0.25,
           "#ffcccc"
          ],
          [
           0.5,
           "#ff9999"
          ],
          [
           0.75,
           "#ff6666"
          ],
          [
           1,
           "#bf0000"
          ]
         ]
        },
        "font": {
         "color": "#333",
         "family": "Arial, sans-serif"
        },
        "height": 1180,
        "hoverlabel": {
         "bgcolor": "white",
         "font": {
          "family": "Arial, sans-serif",
          "size": 16
         }
        },
        "legend": {
         "tracegroupgap": 0
        },
        "margin": {
         "l": 150,
         "t": 100
        },
        "paper_bgcolor": "rgba(255,255,255,1)",
        "plot_bgcolor": "rgba(255,255,255,1)",
        "template": {
         "data": {
          "bar": [
           {
            "error_x": {
             "color": "rgb(36,36,36)"
            },
            "error_y": {
             "color": "rgb(36,36,36)"
            },
            "marker": {
             "line": {
              "color": "white",
              "width": 0.5
             },
             "pattern": {
              "fillmode": "overlay",
              "size": 10,
              "solidity": 0.2
             }
            },
            "type": "bar"
           }
          ],
          "barpolar": [
           {
            "marker": {
             "line": {
              "color": "white",
              "width": 0.5
             },
             "pattern": {
              "fillmode": "overlay",
              "size": 10,
              "solidity": 0.2
             }
            },
            "type": "barpolar"
           }
          ],
          "carpet": [
           {
            "aaxis": {
             "endlinecolor": "rgb(36,36,36)",
             "gridcolor": "white",
             "linecolor": "white",
             "minorgridcolor": "white",
             "startlinecolor": "rgb(36,36,36)"
            },
            "baxis": {
             "endlinecolor": "rgb(36,36,36)",
             "gridcolor": "white",
             "linecolor": "white",
             "minorgridcolor": "white",
             "startlinecolor": "rgb(36,36,36)"
            },
            "type": "carpet"
           }
          ],
          "choropleth": [
           {
            "colorbar": {
             "outlinewidth": 1,
             "tickcolor": "rgb(36,36,36)",
             "ticks": "outside"
            },
            "type": "choropleth"
           }
          ],
          "contour": [
           {
            "colorbar": {
             "outlinewidth": 1,
             "tickcolor": "rgb(36,36,36)",
             "ticks": "outside"
            },
            "colorscale": [
             [
              0,
              "#440154"
             ],
             [
              0.1111111111111111,
              "#482878"
             ],
             [
              0.2222222222222222,
              "#3e4989"
             ],
             [
              0.3333333333333333,
              "#31688e"
             ],
             [
              0.4444444444444444,
              "#26828e"
             ],
             [
              0.5555555555555556,
              "#1f9e89"
             ],
             [
              0.6666666666666666,
              "#35b779"
             ],
             [
              0.7777777777777778,
              "#6ece58"
             ],
             [
              0.8888888888888888,
              "#b5de2b"
             ],
             [
              1,
              "#fde725"
             ]
            ],
            "type": "contour"
           }
          ],
          "contourcarpet": [
           {
            "colorbar": {
             "outlinewidth": 1,
             "tickcolor": "rgb(36,36,36)",
             "ticks": "outside"
            },
            "type": "contourcarpet"
           }
          ],
          "heatmap": [
           {
            "colorbar": {
             "outlinewidth": 1,
             "tickcolor": "rgb(36,36,36)",
             "ticks": "outside"
            },
            "colorscale": [
             [
              0,
              "#440154"
             ],
             [
              0.1111111111111111,
              "#482878"
             ],
             [
              0.2222222222222222,
              "#3e4989"
             ],
             [
              0.3333333333333333,
              "#31688e"
             ],
             [
              0.4444444444444444,
              "#26828e"
             ],
             [
              0.5555555555555556,
              "#1f9e89"
             ],
             [
              0.6666666666666666,
              "#35b779"
             ],
             [
              0.7777777777777778,
              "#6ece58"
             ],
             [
              0.8888888888888888,
              "#b5de2b"
             ],
             [
              1,
              "#fde725"
             ]
            ],
            "type": "heatmap"
           }
          ],
          "heatmapgl": [
           {
            "colorbar": {
             "outlinewidth": 1,
             "tickcolor": "rgb(36,36,36)",
             "ticks": "outside"
            },
            "colorscale": [
             [
              0,
              "#440154"
             ],
             [
              0.1111111111111111,
              "#482878"
             ],
             [
              0.2222222222222222,
              "#3e4989"
             ],
             [
              0.3333333333333333,
              "#31688e"
             ],
             [
              0.4444444444444444,
              "#26828e"
             ],
             [
              0.5555555555555556,
              "#1f9e89"
             ],
             [
              0.6666666666666666,
              "#35b779"
             ],
             [
              0.7777777777777778,
              "#6ece58"
             ],
             [
              0.8888888888888888,
              "#b5de2b"
             ],
             [
              1,
              "#fde725"
             ]
            ],
            "type": "heatmapgl"
           }
          ],
          "histogram": [
           {
            "marker": {
             "line": {
              "color": "white",
              "width": 0.6
             }
            },
            "type": "histogram"
           }
          ],
          "histogram2d": [
           {
            "colorbar": {
             "outlinewidth": 1,
             "tickcolor": "rgb(36,36,36)",
             "ticks": "outside"
            },
            "colorscale": [
             [
              0,
              "#440154"
             ],
             [
              0.1111111111111111,
              "#482878"
             ],
             [
              0.2222222222222222,
              "#3e4989"
             ],
             [
              0.3333333333333333,
              "#31688e"
             ],
             [
              0.4444444444444444,
              "#26828e"
             ],
             [
              0.5555555555555556,
              "#1f9e89"
             ],
             [
              0.6666666666666666,
              "#35b779"
             ],
             [
              0.7777777777777778,
              "#6ece58"
             ],
             [
              0.8888888888888888,
              "#b5de2b"
             ],
             [
              1,
              "#fde725"
             ]
            ],
            "type": "histogram2d"
           }
          ],
          "histogram2dcontour": [
           {
            "colorbar": {
             "outlinewidth": 1,
             "tickcolor": "rgb(36,36,36)",
             "ticks": "outside"
            },
            "colorscale": [
             [
              0,
              "#440154"
             ],
             [
              0.1111111111111111,
              "#482878"
             ],
             [
              0.2222222222222222,
              "#3e4989"
             ],
             [
              0.3333333333333333,
              "#31688e"
             ],
             [
              0.4444444444444444,
              "#26828e"
             ],
             [
              0.5555555555555556,
              "#1f9e89"
             ],
             [
              0.6666666666666666,
              "#35b779"
             ],
             [
              0.7777777777777778,
              "#6ece58"
             ],
             [
              0.8888888888888888,
              "#b5de2b"
             ],
             [
              1,
              "#fde725"
             ]
            ],
            "type": "histogram2dcontour"
           }
          ],
          "mesh3d": [
           {
            "colorbar": {
             "outlinewidth": 1,
             "tickcolor": "rgb(36,36,36)",
             "ticks": "outside"
            },
            "type": "mesh3d"
           }
          ],
          "parcoords": [
           {
            "line": {
             "colorbar": {
              "outlinewidth": 1,
              "tickcolor": "rgb(36,36,36)",
              "ticks": "outside"
             }
            },
            "type": "parcoords"
           }
          ],
          "pie": [
           {
            "automargin": true,
            "type": "pie"
           }
          ],
          "scatter": [
           {
            "fillpattern": {
             "fillmode": "overlay",
             "size": 10,
             "solidity": 0.2
            },
            "type": "scatter"
           }
          ],
          "scatter3d": [
           {
            "line": {
             "colorbar": {
              "outlinewidth": 1,
              "tickcolor": "rgb(36,36,36)",
              "ticks": "outside"
             }
            },
            "marker": {
             "colorbar": {
              "outlinewidth": 1,
              "tickcolor": "rgb(36,36,36)",
              "ticks": "outside"
             }
            },
            "type": "scatter3d"
           }
          ],
          "scattercarpet": [
           {
            "marker": {
             "colorbar": {
              "outlinewidth": 1,
              "tickcolor": "rgb(36,36,36)",
              "ticks": "outside"
             }
            },
            "type": "scattercarpet"
           }
          ],
          "scattergeo": [
           {
            "marker": {
             "colorbar": {
              "outlinewidth": 1,
              "tickcolor": "rgb(36,36,36)",
              "ticks": "outside"
             }
            },
            "type": "scattergeo"
           }
          ],
          "scattergl": [
           {
            "marker": {
             "colorbar": {
              "outlinewidth": 1,
              "tickcolor": "rgb(36,36,36)",
              "ticks": "outside"
             }
            },
            "type": "scattergl"
           }
          ],
          "scattermapbox": [
           {
            "marker": {
             "colorbar": {
              "outlinewidth": 1,
              "tickcolor": "rgb(36,36,36)",
              "ticks": "outside"
             }
            },
            "type": "scattermapbox"
           }
          ],
          "scatterpolar": [
           {
            "marker": {
             "colorbar": {
              "outlinewidth": 1,
              "tickcolor": "rgb(36,36,36)",
              "ticks": "outside"
             }
            },
            "type": "scatterpolar"
           }
          ],
          "scatterpolargl": [
           {
            "marker": {
             "colorbar": {
              "outlinewidth": 1,
              "tickcolor": "rgb(36,36,36)",
              "ticks": "outside"
             }
            },
            "type": "scatterpolargl"
           }
          ],
          "scatterternary": [
           {
            "marker": {
             "colorbar": {
              "outlinewidth": 1,
              "tickcolor": "rgb(36,36,36)",
              "ticks": "outside"
             }
            },
            "type": "scatterternary"
           }
          ],
          "surface": [
           {
            "colorbar": {
             "outlinewidth": 1,
             "tickcolor": "rgb(36,36,36)",
             "ticks": "outside"
            },
            "colorscale": [
             [
              0,
              "#440154"
             ],
             [
              0.1111111111111111,
              "#482878"
             ],
             [
              0.2222222222222222,
              "#3e4989"
             ],
             [
              0.3333333333333333,
              "#31688e"
             ],
             [
              0.4444444444444444,
              "#26828e"
             ],
             [
              0.5555555555555556,
              "#1f9e89"
             ],
             [
              0.6666666666666666,
              "#35b779"
             ],
             [
              0.7777777777777778,
              "#6ece58"
             ],
             [
              0.8888888888888888,
              "#b5de2b"
             ],
             [
              1,
              "#fde725"
             ]
            ],
            "type": "surface"
           }
          ],
          "table": [
           {
            "cells": {
             "fill": {
              "color": "rgb(237,237,237)"
             },
             "line": {
              "color": "white"
             }
            },
            "header": {
             "fill": {
              "color": "rgb(217,217,217)"
             },
             "line": {
              "color": "white"
             }
            },
            "type": "table"
           }
          ]
         },
         "layout": {
          "annotationdefaults": {
           "arrowhead": 0,
           "arrowwidth": 1
          },
          "autotypenumbers": "strict",
          "coloraxis": {
           "colorbar": {
            "outlinewidth": 1,
            "tickcolor": "rgb(36,36,36)",
            "ticks": "outside"
           }
          },
          "colorscale": {
           "diverging": [
            [
             0,
             "rgb(103,0,31)"
            ],
            [
             0.1,
             "rgb(178,24,43)"
            ],
            [
             0.2,
             "rgb(214,96,77)"
            ],
            [
             0.3,
             "rgb(244,165,130)"
            ],
            [
             0.4,
             "rgb(253,219,199)"
            ],
            [
             0.5,
             "rgb(247,247,247)"
            ],
            [
             0.6,
             "rgb(209,229,240)"
            ],
            [
             0.7,
             "rgb(146,197,222)"
            ],
            [
             0.8,
             "rgb(67,147,195)"
            ],
            [
             0.9,
             "rgb(33,102,172)"
            ],
            [
             1,
             "rgb(5,48,97)"
            ]
           ],
           "sequential": [
            [
             0,
             "#440154"
            ],
            [
             0.1111111111111111,
             "#482878"
            ],
            [
             0.2222222222222222,
             "#3e4989"
            ],
            [
             0.3333333333333333,
             "#31688e"
            ],
            [
             0.4444444444444444,
             "#26828e"
            ],
            [
             0.5555555555555556,
             "#1f9e89"
            ],
            [
             0.6666666666666666,
             "#35b779"
            ],
            [
             0.7777777777777778,
             "#6ece58"
            ],
            [
             0.8888888888888888,
             "#b5de2b"
            ],
            [
             1,
             "#fde725"
            ]
           ],
           "sequentialminus": [
            [
             0,
             "#440154"
            ],
            [
             0.1111111111111111,
             "#482878"
            ],
            [
             0.2222222222222222,
             "#3e4989"
            ],
            [
             0.3333333333333333,
             "#31688e"
            ],
            [
             0.4444444444444444,
             "#26828e"
            ],
            [
             0.5555555555555556,
             "#1f9e89"
            ],
            [
             0.6666666666666666,
             "#35b779"
            ],
            [
             0.7777777777777778,
             "#6ece58"
            ],
            [
             0.8888888888888888,
             "#b5de2b"
            ],
            [
             1,
             "#fde725"
            ]
           ]
          },
          "colorway": [
           "#1F77B4",
           "#FF7F0E",
           "#2CA02C",
           "#D62728",
           "#9467BD",
           "#8C564B",
           "#E377C2",
           "#7F7F7F",
           "#BCBD22",
           "#17BECF"
          ],
          "font": {
           "color": "rgb(36,36,36)"
          },
          "geo": {
           "bgcolor": "white",
           "lakecolor": "white",
           "landcolor": "white",
           "showlakes": true,
           "showland": true,
           "subunitcolor": "white"
          },
          "hoverlabel": {
           "align": "left"
          },
          "hovermode": "closest",
          "mapbox": {
           "style": "light"
          },
          "paper_bgcolor": "white",
          "plot_bgcolor": "white",
          "polar": {
           "angularaxis": {
            "gridcolor": "rgb(232,232,232)",
            "linecolor": "rgb(36,36,36)",
            "showgrid": false,
            "showline": true,
            "ticks": "outside"
           },
           "bgcolor": "white",
           "radialaxis": {
            "gridcolor": "rgb(232,232,232)",
            "linecolor": "rgb(36,36,36)",
            "showgrid": false,
            "showline": true,
            "ticks": "outside"
           }
          },
          "scene": {
           "xaxis": {
            "backgroundcolor": "white",
            "gridcolor": "rgb(232,232,232)",
            "gridwidth": 2,
            "linecolor": "rgb(36,36,36)",
            "showbackground": true,
            "showgrid": false,
            "showline": true,
            "ticks": "outside",
            "zeroline": false,
            "zerolinecolor": "rgb(36,36,36)"
           },
           "yaxis": {
            "backgroundcolor": "white",
            "gridcolor": "rgb(232,232,232)",
            "gridwidth": 2,
            "linecolor": "rgb(36,36,36)",
            "showbackground": true,
            "showgrid": false,
            "showline": true,
            "ticks": "outside",
            "zeroline": false,
            "zerolinecolor": "rgb(36,36,36)"
           },
           "zaxis": {
            "backgroundcolor": "white",
            "gridcolor": "rgb(232,232,232)",
            "gridwidth": 2,
            "linecolor": "rgb(36,36,36)",
            "showbackground": true,
            "showgrid": false,
            "showline": true,
            "ticks": "outside",
            "zeroline": false,
            "zerolinecolor": "rgb(36,36,36)"
           }
          },
          "shapedefaults": {
           "fillcolor": "black",
           "line": {
            "width": 0
           },
           "opacity": 0.3
          },
          "ternary": {
           "aaxis": {
            "gridcolor": "rgb(232,232,232)",
            "linecolor": "rgb(36,36,36)",
            "showgrid": false,
            "showline": true,
            "ticks": "outside"
           },
           "baxis": {
            "gridcolor": "rgb(232,232,232)",
            "linecolor": "rgb(36,36,36)",
            "showgrid": false,
            "showline": true,
            "ticks": "outside"
           },
           "bgcolor": "white",
           "caxis": {
            "gridcolor": "rgb(232,232,232)",
            "linecolor": "rgb(36,36,36)",
            "showgrid": false,
            "showline": true,
            "ticks": "outside"
           }
          },
          "title": {
           "x": 0.05
          },
          "xaxis": {
           "automargin": true,
           "gridcolor": "rgb(232,232,232)",
           "linecolor": "rgb(36,36,36)",
           "showgrid": false,
           "showline": true,
           "ticks": "outside",
           "title": {
            "standoff": 15
           },
           "zeroline": false,
           "zerolinecolor": "rgb(36,36,36)"
          },
          "yaxis": {
           "automargin": true,
           "gridcolor": "rgb(232,232,232)",
           "linecolor": "rgb(36,36,36)",
           "showgrid": false,
           "showline": true,
           "ticks": "outside",
           "title": {
            "standoff": 15
           },
           "zeroline": false,
           "zerolinecolor": "rgb(36,36,36)"
          }
         }
        },
        "title": {
         "font": {
          "color": "#333",
          "family": "Arial, sans-serif",
          "size": 25
         },
         "text": "Michelin Guide Listings by Country"
        },
        "xaxis": {
         "anchor": "y",
         "domain": [
          0,
          1
         ],
         "title": {
          "text": "Number of Listings"
         }
        },
        "yaxis": {
         "anchor": "x",
         "autorange": "reversed",
         "domain": [
          0,
          1
         ],
         "tickfont": {
          "size": 10
         },
         "tickmode": "linear",
         "title": {
          "text": "Country"
         }
        }
       }
      }
     },
     "metadata": {},
     "output_type": "display_data"
    }
   ],
   "source": [
    "import plotly.express as px\n",
    "\n",
    "# Define a custom \"Mint\" color scale\n",
    "michelin_inspired_color_scale = [\n",
    "    [0.25, \"#ffcccc\"],  # Soluk kırmızı\n",
    "    [0.5, \"#ff9999\"],  # Orta kırmızı\n",
    "    [0.75, \"#ff6666\"],  # Daha koyu kırmızı\n",
    "    [1, \"#bf0000\"]  # Michelin bordosu\n",
    "]\n",
    "\n",
    "base_height = 300\n",
    "height_per_country = 20\n",
    "fig_height = base_height + height_per_country * len(country_counts_df)\n",
    "\n",
    "# Create a bar plot with improved layout for y-axis labels visibility\n",
    "fig = px.bar(country_counts_df, \n",
    "             y='Country', \n",
    "             x='Restaurant Count', \n",
    "             orientation='h',\n",
    "             title='Michelin Guide Listings by Country',\n",
    "             template='simple_white',\n",
    "             color='Restaurant Count',\n",
    "             color_continuous_scale=michelin_inspired_color_scale,\n",
    "             height=fig_height)  # Adjusted height based on the number of countries\n",
    "\n",
    "# Customize hover data for additional interactivity and information richness\n",
    "fig.update_traces(\n",
    "    customdata=country_counts_df['Country'].apply(lambda x: flag_emojis.get(x, '')),\n",
    "    hovertemplate=\"<b>Country:</b> %{y} %{customdata}<br><b>Restaurant Count:</b> %{x}<extra></extra>\",\n",
    "    marker=dict(line=dict(color='#EAEAEA', width=1))\n",
    ")\n",
    "\n",
    "# Improve layout for clarity and readability\n",
    "fig.update_layout(\n",
    "    xaxis_title='Number of Listings',\n",
    "    yaxis_title='Country',\n",
    "    hoverlabel=dict(\n",
    "        bgcolor=\"white\",\n",
    "        font_size=16,\n",
    "        font_family=\"Arial, sans-serif\"\n",
    "    ),\n",
    "    title_font=dict(size=25, color='#333', family=\"Arial, sans-serif\"),\n",
    "    font=dict(family=\"Arial, sans-serif\", color='#333'),\n",
    "    paper_bgcolor='rgba(255,255,255,1)',\n",
    "    plot_bgcolor='rgba(255,255,255,1)',\n",
    "    margin=dict(t=100, l=150),  # Adjusted left margin for longer country names\n",
    "    yaxis=dict(autorange=\"reversed\", tickmode='linear')  # Ensure all country names are shown\n",
    ")\n",
    "\n",
    "# Optionally, adjust font size for the axis labels if needed\n",
    "fig.update_yaxes(tickfont=dict(size=10))\n",
    "\n",
    "# Show the figure\n",
    "fig.show()\n"
   ]
  },
  {
   "cell_type": "markdown",
   "metadata": {},
   "source": [
    "### Non-interactive Visualization"
   ]
  },
  {
   "cell_type": "code",
   "execution_count": 11,
   "metadata": {},
   "outputs": [
    {
     "data": {
      "image/png": "[encoded data removed]",
      "text/plain": [
       "<Figure size 864x720 with 1 Axes>"
      ]
     },
     "metadata": {
      "needs_background": "light"
     },
     "output_type": "display_data"
    }
   ],
   "source": [
    "import matplotlib.pyplot as plt\n",
    "import numpy as np\n",
    "\n",
    "# Sort the DataFrame for better visualization and slice to get the top 20 countries\n",
    "country_counts_df_sorted = country_counts_df.sort_values('Restaurant Count', ascending=True).tail(20)\n",
    "\n",
    "# Generate a color map or a list of colors for the top 20 entries\n",
    "colors = plt.cm.viridis(np.linspace(1, 0, 20))\n",
    "\n",
    "# Adjusting the figure size for better proportionality\n",
    "plt.figure(figsize=(12, 10))  # Adjusted width and height for 20 countries\n",
    "\n",
    "bars = plt.barh(country_counts_df_sorted['Country'], country_counts_df_sorted['Restaurant Count'], color=colors)\n",
    "\n",
    "# Add value labels to each bar\n",
    "for bar in bars:\n",
    "    plt.text(bar.get_width(), bar.get_y() + bar.get_height() / 2., f'{bar.get_width():.0f}',\n",
    "             va='center', ha='left', fontsize=12)  # Increased fontsize here\n",
    "\n",
    "# Customize the plot\n",
    "plt.xlabel('Number of Listings', fontsize=14)  # Increased fontsize\n",
    "plt.ylabel('Country', fontsize=14, fontweight='bold')  # Increased fontsize and made bold\n",
    "plt.title('Top 20 Countries in Michelin Guide Listings', fontsize=18, fontweight='bold')  # Increased fontsize\n",
    "plt.xticks(fontsize=12)  # Increased fontsize for x-axis tick labels\n",
    "plt.yticks(fontsize=12, fontweight='bold')  # Increased fontsize and made bold for y-axis tick labels\n",
    "plt.tight_layout()\n",
    "\n",
    "# Show the plot\n",
    "plt.show()\n",
    "\n",
    "\n",
    "\n",
    "\n"
   ]
  },
  {
   "cell_type": "markdown",
   "metadata": {},
   "source": [
    "## EDA Step 2: Continent"
   ]
  },
  {
   "cell_type": "markdown",
   "metadata": {},
   "source": [
    "We created a new attribute called `Continent` based on the `Country` attribute in the Michelin Guide dataset.\n",
    "\n",
    "To assign continents to countries, we used a pre-defined mapping called 'continent_mapping', where each country is associated with its corresponding continent. This mapping allows us to efficiently assign continents to countries without manually specifying them for each entry.\n",
    "\n",
    "We used the pandas `map()` function to apply the `continent_mapping` to the `Country` attribute, resulting in the creation of the new `Continent` attribute. For each country in the dataset, the `map()` function looks up the corresponding continent in the `continent_mapping` and assigns it to the `Continent` attribute.\n",
    "\n",
    "This process helps to categorize the Michelin Guide listings by continent, providing additional insights into the geographical distribution of Michelin-recognized restaurants."
   ]
  },
  {
   "cell_type": "code",
   "execution_count": 12,
   "metadata": {},
   "outputs": [],
   "source": [
    "continent_mapping = {\n",
    "    'France': 'Europe',\n",
    "    'Japan': 'Asia',\n",
    "    'Italy': 'Europe',\n",
    "    'USA': 'North America',\n",
    "    'Germany': 'Europe',\n",
    "    'Spain': 'Europe',\n",
    "    'United Kingdom': 'Europe',\n",
    "    'Belgium': 'Europe',\n",
    "    'Switzerland': 'Europe',\n",
    "    'China Mainland': 'Asia',\n",
    "    'Thailand': 'Asia',\n",
    "    'Netherlands': 'Europe',\n",
    "    'Taiwan': 'Asia',\n",
    "    'Hong Kong SAR China': 'Asia',\n",
    "    'Singapore': 'Asia',\n",
    "    'South Korea': 'Asia',\n",
    "    'Portugal': 'Europe',\n",
    "    'Canada': 'North America',\n",
    "    'Malaysia': 'Asia',\n",
    "    'Brazil': 'South America',\n",
    "    'Denmark': 'Europe',\n",
    "    'United Arab Emirates': 'Asia',\n",
    "    'Türkiye': 'Europe',\n",
    "    'Vietnam': 'Asia',\n",
    "    'Ireland': 'Europe',\n",
    "    'Sweden': 'Europe',\n",
    "    'Austria': 'Europe',\n",
    "    'Croatia': 'Europe',\n",
    "    'Macau SAR China': 'Asia',\n",
    "    'Norway': 'Europe',\n",
    "    'Greece': 'Europe',\n",
    "    'Slovenia': 'Europe',\n",
    "    'Luxembourg': 'Europe',\n",
    "    'Hungary': 'Europe',\n",
    "    'Argentina': 'South America',\n",
    "    'Poland': 'Europe',\n",
    "    'Malta': 'Europe',\n",
    "    'Finland': 'Europe',\n",
    "    'Estonia': 'Europe',\n",
    "    'Latvia': 'Europe',\n",
    "    'Iceland': 'Europe',\n",
    "    'Czech Republic': 'Europe',\n",
    "    'Serbia': 'Europe',\n",
    "    'Andorra': 'Europe',\n",
    "}\n",
    "\n",
    "# Assuming 'country_counts_df' is your DataFrame and it has a column named 'Country'\n",
    "# that matches the keys in the 'continent_mapping'\n",
    "michelin_df['Continent'] = michelin_df['Country'].map(continent_mapping)"
   ]
  },
  {
   "cell_type": "code",
   "execution_count": 13,
   "metadata": {},
   "outputs": [
    {
     "data": {
      "text/plain": [
       "Europe           4178\n",
       "Asia             1894\n",
       "North America     661\n",
       "South America      61\n",
       "Name: Continent, dtype: int64"
      ]
     },
     "execution_count": 13,
     "metadata": {},
     "output_type": "execute_result"
    }
   ],
   "source": [
    "#Distributions\n",
    "michelin_df.Continent.value_counts()"
   ]
  },
  {
   "cell_type": "markdown",
   "metadata": {},
   "source": [
    "Similarly, we created two visualizations based on the Michelin Guide dataset with respect to `Continent`"
   ]
  },
  {
   "cell_type": "markdown",
   "metadata": {},
   "source": [
    "### Interactive Visualization for Continent"
   ]
  },
  {
   "cell_type": "code",
   "execution_count": 14,
   "metadata": {},
   "outputs": [
    {
     "data": {
      "application/vnd.plotly.v1+json": {
       "config": {
        "plotlyServerURL": "https://plot.ly"
       },
       "data": [
        {
         "coloraxis": "coloraxis",
         "geo": "geo",
         "hovertemplate": "<b>%{hovertext}</b><br><br>ISO_A3=%{location}<br>Listings=%{z}<extra></extra>",
         "hovertext": [
          "Europe",
          "Europe",
          "Europe",
          "Europe",
          "Europe",
          "Europe",
          "Europe",
          "Europe",
          "Europe",
          "Europe",
          "Europe",
          "Europe",
          "Europe",
          "Europe",
          "Europe",
          "Europe",
          "Europe",
          "Europe",
          "Europe",
          "Europe",
          "Europe",
          "Europe",
          "Europe",
          "Europe",
          "Europe",
          "Europe",
          "Europe",
          "Europe",
          "Asia",
          "Asia",
          "Asia",
          "Asia",
          "Asia",
          "Asia",
          "Asia",
          "Asia",
          "Asia",
          "Asia",
          "Asia",
          "Asia",
          "Asia",
          "North America",
          "North America",
          "North America",
          "South America",
          "South America",
          "South America"
         ],
         "locations": [
          "FRA",
          "DEU",
          "ITA",
          "ESP",
          "GBR",
          "BEL",
          "CHE",
          "NLD",
          "PRT",
          "DNK",
          "SWE",
          "AUT",
          "HRV",
          "NOR",
          "GRC",
          "SVN",
          "LUX",
          "HUN",
          "POL",
          "MLT",
          "FIN",
          "EST",
          "LVA",
          "ISL",
          "CZE",
          "SRB",
          "AND",
          "IRL",
          "CHN",
          "JPN",
          "IND",
          "THA",
          "TWN",
          "HKG",
          "SGP",
          "KOR",
          "MYS",
          "ARE",
          "TUR",
          "VNM",
          "MAC",
          "USA",
          "CAN",
          "MEX",
          "BRA",
          "ARG",
          "COL"
         ],
         "name": "",
         "type": "choropleth",
         "z": [
          4178,
          4178,
          4178,
          4178,
          4178,
          4178,
          4178,
          4178,
          4178,
          4178,
          4178,
          4178,
          4178,
          4178,
          4178,
          4178,
          4178,
          4178,
          4178,
          4178,
          4178,
          4178,
          4178,
          4178,
          4178,
          4178,
          4178,
          4178,
          1894,
          1894,
          1894,
          1894,
          1894,
          1894,
          1894,
          1894,
          1894,
          1894,
          1894,
          1894,
          1894,
          661,
          661,
          661,
          61,
          61,
          61
         ]
        }
       ],
       "layout": {
        "coloraxis": {
         "colorbar": {
          "title": {
           "text": "Listings"
          }
         },
         "colorscale": [
          [
           0,
           "rgb(255,247,236)"
          ],
          [
           0.125,
           "rgb(254,232,200)"
          ],
          [
           0.25,
           "rgb(253,212,158)"
          ],
          [
           0.375,
           "rgb(253,187,132)"
          ],
          [
           0.5,
           "rgb(252,141,89)"
          ],
          [
           0.625,
           "rgb(239,101,72)"
          ],
          [
           0.75,
           "rgb(215,48,31)"
          ],
          [
           0.875,
           "rgb(179,0,0)"
          ],
          [
           1,
           "rgb(127,0,0)"
          ]
         ]
        },
        "geo": {
         "bgcolor": "lightblue",
         "center": {},
         "countrycolor": "grey",
         "countrywidth": 0.5,
         "domain": {
          "x": [
           0,
           1
          ],
          "y": [
           0,
           1
          ]
         },
         "lakecolor": "blue",
         "landcolor": "lightgrey",
         "projection": {
          "type": "natural earth"
         },
         "showcoastlines": false,
         "showcountries": true,
         "showframe": false,
         "showland": true
        },
        "legend": {
         "tracegroupgap": 0
        },
        "margin": {
         "b": 0,
         "l": 0,
         "r": 0,
         "t": 50
        },
        "template": {
         "data": {
          "bar": [
           {
            "error_x": {
             "color": "#2a3f5f"
            },
            "error_y": {
             "color": "#2a3f5f"
            },
            "marker": {
             "line": {
              "color": "#E5ECF6",
              "width": 0.5
             },
             "pattern": {
              "fillmode": "overlay",
              "size": 10,
              "solidity": 0.2
             }
            },
            "type": "bar"
           }
          ],
          "barpolar": [
           {
            "marker": {
             "line": {
              "color": "#E5ECF6",
              "width": 0.5
             },
             "pattern": {
              "fillmode": "overlay",
              "size": 10,
              "solidity": 0.2
             }
            },
            "type": "barpolar"
           }
          ],
          "carpet": [
           {
            "aaxis": {
             "endlinecolor": "#2a3f5f",
             "gridcolor": "white",
             "linecolor": "white",
             "minorgridcolor": "white",
             "startlinecolor": "#2a3f5f"
            },
            "baxis": {
             "endlinecolor": "#2a3f5f",
             "gridcolor": "white",
             "linecolor": "white",
             "minorgridcolor": "white",
             "startlinecolor": "#2a3f5f"
            },
            "type": "carpet"
           }
          ],
          "choropleth": [
           {
            "colorbar": {
             "outlinewidth": 0,
             "ticks": ""
            },
            "type": "choropleth"
           }
          ],
          "contour": [
           {
            "colorbar": {
             "outlinewidth": 0,
             "ticks": ""
            },
            "colorscale": [
             [
              0,
              "#0d0887"
             ],
             [
              0.1111111111111111,
              "#46039f"
             ],
             [
              0.2222222222222222,
              "#7201a8"
             ],
             [
              0.3333333333333333,
              "#9c179e"
             ],
             [
              0.4444444444444444,
              "#bd3786"
             ],
             [
              0.5555555555555556,
              "#d8576b"
             ],
             [
              0.6666666666666666,
              "#ed7953"
             ],
             [
              0.7777777777777778,
              "#fb9f3a"
             ],
             [
              0.8888888888888888,
              "#fdca26"
             ],
             [
              1,
              "#f0f921"
             ]
            ],
            "type": "contour"
           }
          ],
          "contourcarpet": [
           {
            "colorbar": {
             "outlinewidth": 0,
             "ticks": ""
            },
            "type": "contourcarpet"
           }
          ],
          "heatmap": [
           {
            "colorbar": {
             "outlinewidth": 0,
             "ticks": ""
            },
            "colorscale": [
             [
              0,
              "#0d0887"
             ],
             [
              0.1111111111111111,
              "#46039f"
             ],
             [
              0.2222222222222222,
              "#7201a8"
             ],
             [
              0.3333333333333333,
              "#9c179e"
             ],
             [
              0.4444444444444444,
              "#bd3786"
             ],
             [
              0.5555555555555556,
              "#d8576b"
             ],
             [
              0.6666666666666666,
              "#ed7953"
             ],
             [
              0.7777777777777778,
              "#fb9f3a"
             ],
             [
              0.8888888888888888,
              "#fdca26"
             ],
             [
              1,
              "#f0f921"
             ]
            ],
            "type": "heatmap"
           }
          ],
          "heatmapgl": [
           {
            "colorbar": {
             "outlinewidth": 0,
             "ticks": ""
            },
            "colorscale": [
             [
              0,
              "#0d0887"
             ],
             [
              0.1111111111111111,
              "#46039f"
             ],
             [
              0.2222222222222222,
              "#7201a8"
             ],
             [
              0.3333333333333333,
              "#9c179e"
             ],
             [
              0.4444444444444444,
              "#bd3786"
             ],
             [
              0.5555555555555556,
              "#d8576b"
             ],
             [
              0.6666666666666666,
              "#ed7953"
             ],
             [
              0.7777777777777778,
              "#fb9f3a"
             ],
             [
              0.8888888888888888,
              "#fdca26"
             ],
             [
              1,
              "#f0f921"
             ]
            ],
            "type": "heatmapgl"
           }
          ],
          "histogram": [
           {
            "marker": {
             "pattern": {
              "fillmode": "overlay",
              "size": 10,
              "solidity": 0.2
             }
            },
            "type": "histogram"
           }
          ],
          "histogram2d": [
           {
            "colorbar": {
             "outlinewidth": 0,
             "ticks": ""
            },
            "colorscale": [
             [
              0,
              "#0d0887"
             ],
             [
              0.1111111111111111,
              "#46039f"
             ],
             [
              0.2222222222222222,
              "#7201a8"
             ],
             [
              0.3333333333333333,
              "#9c179e"
             ],
             [
              0.4444444444444444,
              "#bd3786"
             ],
             [
              0.5555555555555556,
              "#d8576b"
             ],
             [
              0.6666666666666666,
              "#ed7953"
             ],
             [
              0.7777777777777778,
              "#fb9f3a"
             ],
             [
              0.8888888888888888,
              "#fdca26"
             ],
             [
              1,
              "#f0f921"
             ]
            ],
            "type": "histogram2d"
           }
          ],
          "histogram2dcontour": [
           {
            "colorbar": {
             "outlinewidth": 0,
             "ticks": ""
            },
            "colorscale": [
             [
              0,
              "#0d0887"
             ],
             [
              0.1111111111111111,
              "#46039f"
             ],
             [
              0.2222222222222222,
              "#7201a8"
             ],
             [
              0.3333333333333333,
              "#9c179e"
             ],
             [
              0.4444444444444444,
              "#bd3786"
             ],
             [
              0.5555555555555556,
              "#d8576b"
             ],
             [
              0.6666666666666666,
              "#ed7953"
             ],
             [
              0.7777777777777778,
              "#fb9f3a"
             ],
             [
              0.8888888888888888,
              "#fdca26"
             ],
             [
              1,
              "#f0f921"
             ]
            ],
            "type": "histogram2dcontour"
           }
          ],
          "mesh3d": [
           {
            "colorbar": {
             "outlinewidth": 0,
             "ticks": ""
            },
            "type": "mesh3d"
           }
          ],
          "parcoords": [
           {
            "line": {
             "colorbar": {
              "outlinewidth": 0,
              "ticks": ""
             }
            },
            "type": "parcoords"
           }
          ],
          "pie": [
           {
            "automargin": true,
            "type": "pie"
           }
          ],
          "scatter": [
           {
            "fillpattern": {
             "fillmode": "overlay",
             "size": 10,
             "solidity": 0.2
            },
            "type": "scatter"
           }
          ],
          "scatter3d": [
           {
            "line": {
             "colorbar": {
              "outlinewidth": 0,
              "ticks": ""
             }
            },
            "marker": {
             "colorbar": {
              "outlinewidth": 0,
              "ticks": ""
             }
            },
            "type": "scatter3d"
           }
          ],
          "scattercarpet": [
           {
            "marker": {
             "colorbar": {
              "outlinewidth": 0,
              "ticks": ""
             }
            },
            "type": "scattercarpet"
           }
          ],
          "scattergeo": [
           {
            "marker": {
             "colorbar": {
              "outlinewidth": 0,
              "ticks": ""
             }
            },
            "type": "scattergeo"
           }
          ],
          "scattergl": [
           {
            "marker": {
             "colorbar": {
              "outlinewidth": 0,
              "ticks": ""
             }
            },
            "type": "scattergl"
           }
          ],
          "scattermapbox": [
           {
            "marker": {
             "colorbar": {
              "outlinewidth": 0,
              "ticks": ""
             }
            },
            "type": "scattermapbox"
           }
          ],
          "scatterpolar": [
           {
            "marker": {
             "colorbar": {
              "outlinewidth": 0,
              "ticks": ""
             }
            },
            "type": "scatterpolar"
           }
          ],
          "scatterpolargl": [
           {
            "marker": {
             "colorbar": {
              "outlinewidth": 0,
              "ticks": ""
             }
            },
            "type": "scatterpolargl"
           }
          ],
          "scatterternary": [
           {
            "marker": {
             "colorbar": {
              "outlinewidth": 0,
              "ticks": ""
             }
            },
            "type": "scatterternary"
           }
          ],
          "surface": [
           {
            "colorbar": {
             "outlinewidth": 0,
             "ticks": ""
            },
            "colorscale": [
             [
              0,
              "#0d0887"
             ],
             [
              0.1111111111111111,
              "#46039f"
             ],
             [
              0.2222222222222222,
              "#7201a8"
             ],
             [
              0.3333333333333333,
              "#9c179e"
             ],
             [
              0.4444444444444444,
              "#bd3786"
             ],
             [
              0.5555555555555556,
              "#d8576b"
             ],
             [
              0.6666666666666666,
              "#ed7953"
             ],
             [
              0.7777777777777778,
              "#fb9f3a"
             ],
             [
              0.8888888888888888,
              "#fdca26"
             ],
             [
              1,
              "#f0f921"
             ]
            ],
            "type": "surface"
           }
          ],
          "table": [
           {
            "cells": {
             "fill": {
              "color": "#EBF0F8"
             },
             "line": {
              "color": "white"
             }
            },
            "header": {
             "fill": {
              "color": "#C8D4E3"
             },
             "line": {
              "color": "white"
             }
            },
            "type": "table"
           }
          ]
         },
         "layout": {
          "annotationdefaults": {
           "arrowcolor": "#2a3f5f",
           "arrowhead": 0,
           "arrowwidth": 1
          },
          "autotypenumbers": "strict",
          "coloraxis": {
           "colorbar": {
            "outlinewidth": 0,
            "ticks": ""
           }
          },
          "colorscale": {
           "diverging": [
            [
             0,
             "#8e0152"
            ],
            [
             0.1,
             "#c51b7d"
            ],
            [
             0.2,
             "#de77ae"
            ],
            [
             0.3,
             "#f1b6da"
            ],
            [
             0.4,
             "#fde0ef"
            ],
            [
             0.5,
             "#f7f7f7"
            ],
            [
             0.6,
             "#e6f5d0"
            ],
            [
             0.7,
             "#b8e186"
            ],
            [
             0.8,
             "#7fbc41"
            ],
            [
             0.9,
             "#4d9221"
            ],
            [
             1,
             "#276419"
            ]
           ],
           "sequential": [
            [
             0,
             "#0d0887"
            ],
            [
             0.1111111111111111,
             "#46039f"
            ],
            [
             0.2222222222222222,
             "#7201a8"
            ],
            [
             0.3333333333333333,
             "#9c179e"
            ],
            [
             0.4444444444444444,
             "#bd3786"
            ],
            [
             0.5555555555555556,
             "#d8576b"
            ],
            [
             0.6666666666666666,
             "#ed7953"
            ],
            [
             0.7777777777777778,
             "#fb9f3a"
            ],
            [
             0.8888888888888888,
             "#fdca26"
            ],
            [
             1,
             "#f0f921"
            ]
           ],
           "sequentialminus": [
            [
             0,
             "#0d0887"
            ],
            [
             0.1111111111111111,
             "#46039f"
            ],
            [
             0.2222222222222222,
             "#7201a8"
            ],
            [
             0.3333333333333333,
             "#9c179e"
            ],
            [
             0.4444444444444444,
             "#bd3786"
            ],
            [
             0.5555555555555556,
             "#d8576b"
            ],
            [
             0.6666666666666666,
             "#ed7953"
            ],
            [
             0.7777777777777778,
             "#fb9f3a"
            ],
            [
             0.8888888888888888,
             "#fdca26"
            ],
            [
             1,
             "#f0f921"
            ]
           ]
          },
          "colorway": [
           "#636efa",
           "#EF553B",
           "#00cc96",
           "#ab63fa",
           "#FFA15A",
           "#19d3f3",
           "#FF6692",
           "#B6E880",
           "#FF97FF",
           "#FECB52"
          ],
          "font": {
           "color": "#2a3f5f"
          },
          "geo": {
           "bgcolor": "white",
           "lakecolor": "white",
           "landcolor": "#E5ECF6",
           "showlakes": true,
           "showland": true,
           "subunitcolor": "white"
          },
          "hoverlabel": {
           "align": "left"
          },
          "hovermode": "closest",
          "mapbox": {
           "style": "light"
          },
          "paper_bgcolor": "white",
          "plot_bgcolor": "#E5ECF6",
          "polar": {
           "angularaxis": {
            "gridcolor": "white",
            "linecolor": "white",
            "ticks": ""
           },
           "bgcolor": "#E5ECF6",
           "radialaxis": {
            "gridcolor": "white",
            "linecolor": "white",
            "ticks": ""
           }
          },
          "scene": {
           "xaxis": {
            "backgroundcolor": "#E5ECF6",
            "gridcolor": "white",
            "gridwidth": 2,
            "linecolor": "white",
            "showbackground": true,
            "ticks": "",
            "zerolinecolor": "white"
           },
           "yaxis": {
            "backgroundcolor": "#E5ECF6",
            "gridcolor": "white",
            "gridwidth": 2,
            "linecolor": "white",
            "showbackground": true,
            "ticks": "",
            "zerolinecolor": "white"
           },
           "zaxis": {
            "backgroundcolor": "#E5ECF6",
            "gridcolor": "white",
            "gridwidth": 2,
            "linecolor": "white",
            "showbackground": true,
            "ticks": "",
            "zerolinecolor": "white"
           }
          },
          "shapedefaults": {
           "line": {
            "color": "#2a3f5f"
           }
          },
          "ternary": {
           "aaxis": {
            "gridcolor": "white",
            "linecolor": "white",
            "ticks": ""
           },
           "baxis": {
            "gridcolor": "white",
            "linecolor": "white",
            "ticks": ""
           },
           "bgcolor": "#E5ECF6",
           "caxis": {
            "gridcolor": "white",
            "linecolor": "white",
            "ticks": ""
           }
          },
          "title": {
           "x": 0.05
          },
          "xaxis": {
           "automargin": true,
           "gridcolor": "white",
           "linecolor": "white",
           "ticks": "",
           "title": {
            "standoff": 15
           },
           "zerolinecolor": "white",
           "zerolinewidth": 2
          },
          "yaxis": {
           "automargin": true,
           "gridcolor": "white",
           "linecolor": "white",
           "ticks": "",
           "title": {
            "standoff": 15
           },
           "zerolinecolor": "white",
           "zerolinewidth": 2
          }
         }
        },
        "title": {
         "text": "Michelin Guide Listings by Continent"
        }
       }
      }
     },
     "metadata": {},
     "output_type": "display_data"
    }
   ],
   "source": [
    "import plotly.express as px\n",
    "\n",
    "# Assuming michelin_df has a column named 'Continent'\n",
    "continent_counts = michelin_df['Continent'].value_counts()\n",
    "# Convert Series to DataFrame for easier manipulation\n",
    "continent_counts_df = continent_counts.reset_index()\n",
    "continent_counts_df.columns = ['Continent', 'Listings']\n",
    "\n",
    "# Since Plotly's built-in continent support can be limited, use country ISO codes and aggregate for continents\n",
    "# Mapping continents to one or more representative ISO Alpha-3 country codes for visualization purposes\n",
    "continent_iso_a3 = {\n",
    "    'Europe': ['FRA', 'DEU', 'ITA', 'ESP', 'GBR', 'BEL', 'CHE', 'NLD', 'PRT', 'DNK', 'SWE', 'AUT', 'HRV', 'NOR', 'GRC', 'SVN', 'LUX', 'HUN', 'POL', 'MLT', 'FIN', 'EST', 'LVA', 'ISL', 'CZE', 'SRB', 'AND', 'IRL'],  # Added European countries\n",
    "    'Asia': ['CHN', 'JPN', 'IND', 'THA', 'TWN', 'HKG', 'SGP', 'KOR', 'MYS', 'ARE', 'TUR', 'VNM', 'MAC'],  # Added Asian countries\n",
    "    'North America': ['USA', 'CAN', 'MEX'],  # North America already defined\n",
    "    'South America': ['BRA', 'ARG', 'COL'],  # South America already defined\n",
    "}\n",
    "\n",
    "# Expand the DataFrame to include a row for each ISO code representing a continent\n",
    "expanded_rows = []\n",
    "for index, row in continent_counts_df.iterrows():\n",
    "    for iso in continent_iso_a3.get(row['Continent'], []):\n",
    "        expanded_rows.append({'ISO_A3': iso, 'Listings': row['Listings'], 'Continent': row['Continent']})\n",
    "expanded_df = pd.DataFrame(expanded_rows)\n",
    "\n",
    "# Create a choropleth map using the expanded DataFrame\n",
    "fig = px.choropleth(expanded_df,\n",
    "                    locations=\"ISO_A3\",\n",
    "                    color=\"Listings\",\n",
    "                    hover_name=\"Continent\",\n",
    "                    color_continuous_scale=px.colors.sequential.OrRd)\n",
    "\n",
    "# Update layout for a better view\n",
    "fig.update_layout(\n",
    "    title_text='Michelin Guide Listings by Continent',\n",
    "    geo=dict(\n",
    "        showframe=False,\n",
    "        showcoastlines=False,\n",
    "        projection_type='natural earth',  # More conventional world map projection\n",
    "        showcountries=True,  # Outline the countries\n",
    "        showland=True,  # Show land\n",
    "        countrywidth=0.5,  # Width of country borders\n",
    "        landcolor='lightgrey',  # Color of land\n",
    "        countrycolor='grey',  # Color of country borders\n",
    "        bgcolor='lightblue',  # Set ocean color to blue\n",
    "        lakecolor= 'blue'\n",
    "    ),\n",
    "    margin={\"r\":0,\"t\":50,\"l\":0,\"b\":0}  # Adjust margins to fit the layout\n",
    ")\n",
    "\n",
    "# Show the figure\n",
    "fig.show()\n",
    "\n"
   ]
  },
  {
   "cell_type": "code",
   "execution_count": 15,
   "metadata": {},
   "outputs": [
    {
     "name": "stderr",
     "output_type": "stream",
     "text": [
      "<ipython-input-15-c3956589c9b2>:8: MatplotlibDeprecationWarning:\n",
      "\n",
      "The seaborn styles shipped by Matplotlib are deprecated since 3.6, as they no longer correspond to the styles shipped by seaborn. However, they will remain available as 'seaborn-v0_8-<style>'. Alternatively, directly use the seaborn API instead.\n",
      "\n"
     ]
    },
    {
     "data": {
      "image/png": "[encoded data removed]",
      "text/plain": [
       "<Figure size 864x576 with 1 Axes>"
      ]
     },
     "metadata": {},
     "output_type": "display_data"
    }
   ],
   "source": [
    "\n",
    "# Sorting the dataframe \n",
    "continent_counts_df_sorted = continent_counts_df.sort_values('Listings', ascending=False)\n",
    "\n",
    "# Generate a color map or a list of colors\n",
    "colors = plt.cm.viridis(np.linspace(0, 1, 4))\n",
    "\n",
    "# Modernizing the look with minimalistic style\n",
    "plt.style.use('seaborn-darkgrid')\n",
    "# Create the plot\n",
    "plt.figure(figsize=(12, 8))  # Adjusted figure size for better visibility\n",
    "bars = plt.bar(continent_counts_df_sorted['Continent'], continent_counts_df_sorted['Listings'], color= colors)  # Changed bar color to teal\n",
    "\n",
    "plt.title('Michelin Guide Listings by Continent', fontsize=18)  # Adjusted title font size\n",
    "plt.xlabel('Continent', fontsize=14)  # Adjusted x-axis label font size\n",
    "plt.ylabel('Number of Listings', fontsize=14)  # Adjusted y-axis label font size\n",
    "# Adjust tick font sizes\n",
    "plt.xticks(fontsize=12)\n",
    "plt.yticks(fontsize=12)\n",
    "\n",
    "# Loop over the bars and use the 'text' function to put a label above each bar\n",
    "for bar in bars:\n",
    "    yval = bar.get_height()\n",
    "    plt.text(bar.get_x() + bar.get_width()/2, yval + 1, int(yval), ha='center', va='bottom', fontsize=12, rotation=0)\n",
    "\n",
    "# Creating a custom legend\n",
    "handles, labels = [], []\n",
    "for i, bar in enumerate(bars):\n",
    "    handles.append(bar)\n",
    "    labels.append(continent_counts_df_sorted.iloc[i]['Continent'])\n",
    "plt.legend(handles, labels, title=\"Continent\", title_fontsize='13', fontsize='11', loc='upper right')\n",
    "\n",
    "plt.show()  # Display the plot\n"
   ]
  },
  {
   "cell_type": "markdown",
   "metadata": {},
   "source": [
    "## EDA Step 3: Cuisine"
   ]
  },
  {
   "cell_type": "code",
   "execution_count": 16,
   "metadata": {},
   "outputs": [
    {
     "data": {
      "text/plain": [
       "Modern Cuisine              918\n",
       "Creative                    384\n",
       "Japanese                    278\n",
       "Traditional Cuisine         203\n",
       "Street Food                 168\n",
       "French                      135\n",
       "Contemporary                134\n",
       "Italian                     119\n",
       "Cantonese                   115\n",
       "Creative, Modern Cuisine     90\n",
       "Thai                         80\n",
       "Classic Cuisine              78\n",
       "Sushi                        74\n",
       "Noodles                      72\n",
       "Modern French                71\n",
       "Modern British               68\n",
       "Modern Cuisine, Creative     67\n",
       "Seafood                      66\n",
       "Chinese                      57\n",
       "Farm to table                53\n",
       "Name: Cuisine, dtype: int64"
      ]
     },
     "execution_count": 16,
     "metadata": {},
     "output_type": "execute_result"
    }
   ],
   "source": [
    "michelin_df.Cuisine.value_counts()[:20]"
   ]
  },
  {
   "cell_type": "markdown",
   "metadata": {},
   "source": [
    "\n",
    "We are creating a new attribute called 'PrimaryCuisine' based on the 'Cuisine' attribute in the Michelin Guide dataset.\n",
    "\n",
    "To extract the primary cuisine of each restaurant, we use the pandas 'str.split()' function to split the 'Cuisine' attribute by comma and then select the first part. This process allows us to isolate the primary cuisine from any additional cuisines listed.\n",
    "\n",
    "After extracting the primary cuisines, we use the 'value_counts()' function to count the occurrences of each cuisine and display the top 20 primary cuisines. This provides insight into the distribution and popularity of different cuisines among Michelin-recognized restaurants.\n",
    "\n",
    "This analysis helps identify trends and preferences in culinary offerings across the Michelin Guide listings.\n"
   ]
  },
  {
   "cell_type": "code",
   "execution_count": 17,
   "metadata": {},
   "outputs": [
    {
     "data": {
      "text/plain": [
       "Modern Cuisine           1197\n",
       "Creative                  651\n",
       "Japanese                  362\n",
       "Contemporary              283\n",
       "Traditional Cuisine       259\n",
       "Country cooking           210\n",
       "French                    188\n",
       "Italian                   187\n",
       "Street Food               168\n",
       "Classic Cuisine           139\n",
       "Farm to table             126\n",
       "Modern French             120\n",
       "Cantonese                 116\n",
       "Seafood                   113\n",
       "Mediterranean Cuisine     107\n",
       "Chinese                   104\n",
       "Regional Cuisine          103\n",
       "Thai                       91\n",
       "Sushi                      74\n",
       "Noodles                    73\n",
       "Name: PrimaryCuisine, dtype: int64"
      ]
     },
     "execution_count": 17,
     "metadata": {},
     "output_type": "execute_result"
    }
   ],
   "source": [
    "michelin_df['PrimaryCuisine'] = michelin_df['Cuisine'].str.split(', ').str[0]\n",
    "michelin_df.PrimaryCuisine.value_counts()[:20]"
   ]
  },
  {
   "cell_type": "markdown",
   "metadata": {},
   "source": [
    "### Non-Interactive Visualization"
   ]
  },
  {
   "cell_type": "code",
   "execution_count": 18,
   "metadata": {},
   "outputs": [
    {
     "data": {
      "image/png": "[encoded data removed]",
      "text/plain": [
       "<Figure size 864x720 with 1 Axes>"
      ]
     },
     "metadata": {},
     "output_type": "display_data"
    }
   ],
   "source": [
    "import matplotlib.pyplot as plt\n",
    "import numpy as np\n",
    "\n",
    "cuisine_counts = michelin_df['PrimaryCuisine'].value_counts()\n",
    "# Convert Series to DataFrame for easier manipulation\n",
    "cuisine_counts_df = cuisine_counts.reset_index()\n",
    "cuisine_counts_df.columns = ['Cuisine', 'Listings']\n",
    "\n",
    "# Sort the DataFrame for better visualization and slice to get the top 20 cuisines\n",
    "cuisine_counts_df_sorted = cuisine_counts_df.sort_values('Listings', ascending=True).tail(20)\n",
    "\n",
    "# Generate a color map or a list of colors for the top 20 entries\n",
    "colors = plt.cm.inferno(np.linspace(0, 1, 20))\n",
    "\n",
    "# Adjusting the figure size for better proportionality\n",
    "plt.figure(figsize=(12, 10))  # Adjusted width and height for 20 countries\n",
    "\n",
    "bars = plt.barh(cuisine_counts_df_sorted['Cuisine'], cuisine_counts_df_sorted['Listings'], color=colors)\n",
    "\n",
    "# Add value labels to each bar\n",
    "for bar in bars:\n",
    "    plt.text(bar.get_width(), bar.get_y() + bar.get_height() / 2., f'{bar.get_width():.0f}',\n",
    "             va='center', ha='left', fontsize=12)  # Increased fontsize here\n",
    "\n",
    "# Customize the plot\n",
    "plt.xlabel('Number of Listings', fontsize=14)  # Increased fontsize\n",
    "plt.ylabel('Cuisine', fontsize=14, fontweight='bold')  # Increased fontsize and made bold\n",
    "plt.title('Top 20 Cuisines in Michelin Guide Listings', fontsize=18, fontweight='bold')  # Increased fontsize\n",
    "plt.xticks(fontsize=12)  # Increased fontsize for x-axis tick labels\n",
    "plt.yticks(fontsize=12, fontweight='bold')  # Increased fontsize and made bold for y-axis tick labels\n",
    "plt.tight_layout()\n",
    "\n",
    "# Show the plot\n",
    "plt.show()"
   ]
  },
  {
   "cell_type": "markdown",
   "metadata": {},
   "source": [
    "---"
   ]
  },
  {
   "cell_type": "markdown",
   "metadata": {},
   "source": [
    "## EDA Step 4: Facilities and Services"
   ]
  },
  {
   "cell_type": "code",
   "execution_count": 19,
   "metadata": {},
   "outputs": [
    {
     "name": "stdout",
     "output_type": "stream",
     "text": [
      "{'Air conditioning': 4694, 'Car park': 2177, 'Interesting wine list': 1741, 'Counter dining': 1062, 'Wheelchair access': 2142, 'Notable sake list': 127, 'Restaurant offering vegetarian menus': 1034, 'Great view': 653, 'Terrace': 2717, 'Garden or park': 533, 'Valet parking': 455, 'No facility and/or service listed': 234, 'Shoes must be removed': 57, 'Cash only': 557, 'Cash only - lunch': 36, 'Brunch': 142, 'Credit cards not accepted': 80, 'Foreign credit cards not accepted': 41, 'Bring your own bottle': 12, 'Booking essential': 5, 'Reservations not accepted': 2}\n"
     ]
    }
   ],
   "source": [
    "# Fill NaN values in the 'FacilitiesAndServices' column with a default string\n",
    "michelin_df['FacilitiesAndServices'] = michelin_df['FacilitiesAndServices'].fillna('No facility and/or service listed')\n",
    "\n",
    "# Initialize a dictionary to store facilities and services with their counts\n",
    "facilities_and_services_count = {}\n",
    "\n",
    "# Iterate through each row in the DataFrame\n",
    "for index, row in michelin_df.iterrows():\n",
    "    # Split the values in the 'FacilitiesAndServices' column by comma\n",
    "    facilities = row['FacilitiesAndServices'].split(',')\n",
    "    # Update counts for each facility or service in the dictionary\n",
    "    for facility in facilities:\n",
    "        facility = facility.strip()  # Remove leading and trailing whitespace\n",
    "        if facility in facilities_and_services_count:\n",
    "            facilities_and_services_count[facility] += 1\n",
    "        else:\n",
    "            facilities_and_services_count[facility] = 1\n",
    "\n",
    "# Print the dictionary of facilities and services with their counts\n",
    "print(facilities_and_services_count)\n"
   ]
  },
  {
   "cell_type": "markdown",
   "metadata": {},
   "source": [
    "### Non-Interactive Visualization"
   ]
  },
  {
   "cell_type": "code",
   "execution_count": 20,
   "metadata": {},
   "outputs": [
    {
     "data": {
      "image/png": "[encoded data removed]",
      "text/plain": [
       "<Figure size 864x720 with 1 Axes>"
      ]
     },
     "metadata": {},
     "output_type": "display_data"
    }
   ],
   "source": [
    "# Sorting the dictionary by count\n",
    "sorted_facilities_and_services_count = dict(sorted(facilities_and_services_count.items(), key=lambda item: item[1], reverse=False))\n",
    "\n",
    "# Creating lists for the bar chart\n",
    "facilities = list(sorted_facilities_and_services_count.keys())\n",
    "counts = list(sorted_facilities_and_services_count.values())\n",
    "\n",
    "# Creating the bar chart\n",
    "plt.figure(figsize=(12, 10))\n",
    "bars = plt.barh(facilities, counts, color='steelblue')\n",
    "\n",
    "# Add value labels to each bar\n",
    "for bar in bars:\n",
    "    plt.text(\n",
    "        bar.get_width(),  # X position, here at the end of each bar\n",
    "        bar.get_y() + bar.get_height() / 2.,  # Y position, in the middle of each bar\n",
    "        f'{bar.get_width():.0f}',  # The label, which is the width of the bar (count)\n",
    "        va='center',  # Center alignment vertically\n",
    "        ha='left',  # Left alignment horizontally\n",
    "        fontsize=12  # Font size of the text\n",
    "    )\n",
    "\n",
    "# Customize the plot\n",
    "plt.xlabel('Number of Listings', fontsize=14)  # Increased fontsize\n",
    "plt.ylabel('Facilities and Services', fontsize=14, fontweight='bold')  # Increased fontsize and made bold\n",
    "plt.title('Facilities and Services in Michelin Guide Listings', fontsize=18, fontweight='bold')  # Increased fontsize and made bold\n",
    "plt.xticks(fontsize=12)  # Increased fontsize for x-axis tick labels\n",
    "plt.yticks(fontsize=12, fontweight='bold')  # Increased fontsize and made bold for y-axis tick labels\n",
    "plt.show()\n"
   ]
  },
  {
   "cell_type": "code",
   "execution_count": 21,
   "metadata": {},
   "outputs": [
    {
     "name": "stdout",
     "output_type": "stream",
     "text": [
      "Bib Gourmand    21\n",
      "1 Star          13\n",
      "2 Stars          2\n",
      "Name: Award, dtype: int64\n"
     ]
    }
   ],
   "source": [
    "# Filter rows where the 'FacilitiesAndServices' column includes 'Cash only - lunch'\n",
    "lunch_rows = michelin_df[michelin_df['FacilitiesAndServices'].str.contains(\"Cash only - lunch\")]\n",
    "\n",
    "# Display the filtered rows\n",
    "print(lunch_rows['Award'].value_counts())\n"
   ]
  },
  {
   "cell_type": "markdown",
   "metadata": {},
   "source": [
    "---"
   ]
  },
  {
   "cell_type": "markdown",
   "metadata": {},
   "source": [
    "## EDA Step 5: Price and Star Correlation"
   ]
  },
  {
   "cell_type": "code",
   "execution_count": 22,
   "metadata": {},
   "outputs": [
    {
     "data": {
      "text/html": [
       "<div>\n",
       "<style scoped>\n",
       "    .dataframe tbody tr th:only-of-type {\n",
       "        vertical-align: middle;\n",
       "    }\n",
       "\n",
       "    .dataframe tbody tr th {\n",
       "        vertical-align: top;\n",
       "    }\n",
       "\n",
       "    .dataframe thead th {\n",
       "        text-align: right;\n",
       "    }\n",
       "</style>\n",
       "<table border=\"1\" class=\"dataframe\">\n",
       "  <thead>\n",
       "    <tr style=\"text-align: right;\">\n",
       "      <th></th>\n",
       "      <th>Name</th>\n",
       "      <th>Address</th>\n",
       "      <th>Location</th>\n",
       "      <th>Price</th>\n",
       "      <th>Cuisine</th>\n",
       "      <th>Longitude</th>\n",
       "      <th>Latitude</th>\n",
       "      <th>PhoneNumber</th>\n",
       "      <th>Url</th>\n",
       "      <th>WebsiteUrl</th>\n",
       "      <th>Award</th>\n",
       "      <th>FacilitiesAndServices</th>\n",
       "      <th>Description</th>\n",
       "      <th>Country</th>\n",
       "      <th>Continent</th>\n",
       "      <th>PrimaryCuisine</th>\n",
       "    </tr>\n",
       "  </thead>\n",
       "  <tbody>\n",
       "    <tr>\n",
       "      <th>4634</th>\n",
       "      <td>Meiers come inn</td>\n",
       "      <td>Kaffeestrasse 6c, Bülach, 8180, Switzerland</td>\n",
       "      <td>Bülach, Switzerland</td>\n",
       "      <td>NaN</td>\n",
       "      <td>Thai</td>\n",
       "      <td>8.536827</td>\n",
       "      <td>47.513068</td>\n",
       "      <td>4.144860e+10</td>\n",
       "      <td>https://guide.michelin.com/en/zurich-region/bl...</td>\n",
       "      <td>https://www.come-inn.ch/</td>\n",
       "      <td>Bib Gourmand</td>\n",
       "      <td>Air conditioning,Car park,Restaurant offering ...</td>\n",
       "      <td>Slightly off the beaten track, this restaurant...</td>\n",
       "      <td>Switzerland</td>\n",
       "      <td>Europe</td>\n",
       "      <td>Thai</td>\n",
       "    </tr>\n",
       "    <tr>\n",
       "      <th>6761</th>\n",
       "      <td>Nit</td>\n",
       "      <td>Rua Oscar Freire 145, São Paulo, 01409-003, Br...</td>\n",
       "      <td>São Paulo, Brazil</td>\n",
       "      <td>NaN</td>\n",
       "      <td>Spanish</td>\n",
       "      <td>-46.663807</td>\n",
       "      <td>-23.567758</td>\n",
       "      <td>5.511354e+11</td>\n",
       "      <td>https://guide.michelin.com/en/sao-paulo-region...</td>\n",
       "      <td>https://www.restaurantetanit.com.br/cardapios-nit</td>\n",
       "      <td>Bib Gourmand</td>\n",
       "      <td>Air conditioning</td>\n",
       "      <td>The most informal and fun of Catalan chef, Osc...</td>\n",
       "      <td>Brazil</td>\n",
       "      <td>South America</td>\n",
       "      <td>Spanish</td>\n",
       "    </tr>\n",
       "  </tbody>\n",
       "</table>\n",
       "</div>"
      ],
      "text/plain": [
       "                 Name                                            Address  \\\n",
       "4634  Meiers come inn        Kaffeestrasse 6c, Bülach, 8180, Switzerland   \n",
       "6761              Nit  Rua Oscar Freire 145, São Paulo, 01409-003, Br...   \n",
       "\n",
       "                 Location Price  Cuisine  Longitude   Latitude   PhoneNumber  \\\n",
       "4634  Bülach, Switzerland   NaN     Thai   8.536827  47.513068  4.144860e+10   \n",
       "6761    São Paulo, Brazil   NaN  Spanish -46.663807 -23.567758  5.511354e+11   \n",
       "\n",
       "                                                    Url  \\\n",
       "4634  https://guide.michelin.com/en/zurich-region/bl...   \n",
       "6761  https://guide.michelin.com/en/sao-paulo-region...   \n",
       "\n",
       "                                             WebsiteUrl         Award  \\\n",
       "4634                           https://www.come-inn.ch/  Bib Gourmand   \n",
       "6761  https://www.restaurantetanit.com.br/cardapios-nit  Bib Gourmand   \n",
       "\n",
       "                                  FacilitiesAndServices  \\\n",
       "4634  Air conditioning,Car park,Restaurant offering ...   \n",
       "6761                                   Air conditioning   \n",
       "\n",
       "                                            Description      Country  \\\n",
       "4634  Slightly off the beaten track, this restaurant...  Switzerland   \n",
       "6761  The most informal and fun of Catalan chef, Osc...       Brazil   \n",
       "\n",
       "          Continent PrimaryCuisine  \n",
       "4634         Europe           Thai  \n",
       "6761  South America        Spanish  "
      ]
     },
     "execution_count": 22,
     "metadata": {},
     "output_type": "execute_result"
    }
   ],
   "source": [
    "michelin_df[michelin_df[\"Price\"].isna()]"
   ]
  },
  {
   "cell_type": "code",
   "execution_count": 23,
   "metadata": {},
   "outputs": [
    {
     "data": {
      "text/plain": [
       "Bib Gourmand    3333\n",
       "1 Star          2844\n",
       "2 Stars          474\n",
       "3 Stars          143\n",
       "Name: Award, dtype: int64"
      ]
     },
     "execution_count": 23,
     "metadata": {},
     "output_type": "execute_result"
    }
   ],
   "source": [
    "michelin_df.Award.value_counts()"
   ]
  },
  {
   "cell_type": "code",
   "execution_count": 24,
   "metadata": {},
   "outputs": [],
   "source": [
    "# Fill these indices with a 'Price' manually\n",
    "michelin_df.loc[4634, 'Price'] = \"$$\"\n",
    "michelin_df.loc[6761, 'Price'] = \"$$$\""
   ]
  },
  {
   "cell_type": "code",
   "execution_count": 25,
   "metadata": {},
   "outputs": [
    {
     "data": {
      "text/plain": [
       "€€€€    1387\n",
       "€€      1339\n",
       "€€€      798\n",
       "$$       573\n",
       "$$$$     336\n",
       "¥¥¥      330\n",
       "€        307\n",
       "¥¥       268\n",
       "$        267\n",
       "¥        201\n",
       "¥¥¥¥     176\n",
       "$$$      146\n",
       "฿฿       115\n",
       "££££     114\n",
       "££        98\n",
       "฿         81\n",
       "£££       59\n",
       "₩         49\n",
       "₩₩₩₩      26\n",
       "₫         25\n",
       "Name: Price, dtype: int64"
      ]
     },
     "execution_count": 25,
     "metadata": {},
     "output_type": "execute_result"
    }
   ],
   "source": [
    "michelin_df[\"Price\"].value_counts()[:20]"
   ]
  },
  {
   "cell_type": "code",
   "execution_count": 26,
   "metadata": {},
   "outputs": [
    {
     "data": {
      "text/html": [
       "<div>\n",
       "<style scoped>\n",
       "    .dataframe tbody tr th:only-of-type {\n",
       "        vertical-align: middle;\n",
       "    }\n",
       "\n",
       "    .dataframe tbody tr th {\n",
       "        vertical-align: top;\n",
       "    }\n",
       "\n",
       "    .dataframe thead th {\n",
       "        text-align: right;\n",
       "    }\n",
       "</style>\n",
       "<table border=\"1\" class=\"dataframe\">\n",
       "  <thead>\n",
       "    <tr style=\"text-align: right;\">\n",
       "      <th>Award</th>\n",
       "      <th>1 Star</th>\n",
       "      <th>2 Stars</th>\n",
       "      <th>3 Stars</th>\n",
       "      <th>Bib Gourmand</th>\n",
       "    </tr>\n",
       "    <tr>\n",
       "      <th>Price</th>\n",
       "      <th></th>\n",
       "      <th></th>\n",
       "      <th></th>\n",
       "      <th></th>\n",
       "    </tr>\n",
       "  </thead>\n",
       "  <tbody>\n",
       "    <tr>\n",
       "      <th>$</th>\n",
       "      <td>1.0</td>\n",
       "      <td>0.0</td>\n",
       "      <td>0.0</td>\n",
       "      <td>266.0</td>\n",
       "    </tr>\n",
       "    <tr>\n",
       "      <th>$$</th>\n",
       "      <td>37.0</td>\n",
       "      <td>3.0</td>\n",
       "      <td>0.0</td>\n",
       "      <td>533.0</td>\n",
       "    </tr>\n",
       "    <tr>\n",
       "      <th>$$$</th>\n",
       "      <td>112.0</td>\n",
       "      <td>11.0</td>\n",
       "      <td>2.0</td>\n",
       "      <td>21.0</td>\n",
       "    </tr>\n",
       "    <tr>\n",
       "      <th>$$$$</th>\n",
       "      <td>250.0</td>\n",
       "      <td>58.0</td>\n",
       "      <td>27.0</td>\n",
       "      <td>1.0</td>\n",
       "    </tr>\n",
       "    <tr>\n",
       "      <th>£</th>\n",
       "      <td>0.0</td>\n",
       "      <td>0.0</td>\n",
       "      <td>0.0</td>\n",
       "      <td>4.0</td>\n",
       "    </tr>\n",
       "    <tr>\n",
       "      <th>££</th>\n",
       "      <td>5.0</td>\n",
       "      <td>0.0</td>\n",
       "      <td>0.0</td>\n",
       "      <td>93.0</td>\n",
       "    </tr>\n",
       "    <tr>\n",
       "      <th>£££</th>\n",
       "      <td>59.0</td>\n",
       "      <td>0.0</td>\n",
       "      <td>0.0</td>\n",
       "      <td>0.0</td>\n",
       "    </tr>\n",
       "    <tr>\n",
       "      <th>££££</th>\n",
       "      <td>88.0</td>\n",
       "      <td>18.0</td>\n",
       "      <td>8.0</td>\n",
       "      <td>0.0</td>\n",
       "    </tr>\n",
       "    <tr>\n",
       "      <th>¥</th>\n",
       "      <td>0.0</td>\n",
       "      <td>0.0</td>\n",
       "      <td>0.0</td>\n",
       "      <td>201.0</td>\n",
       "    </tr>\n",
       "    <tr>\n",
       "      <th>¥¥</th>\n",
       "      <td>20.0</td>\n",
       "      <td>1.0</td>\n",
       "      <td>0.0</td>\n",
       "      <td>247.0</td>\n",
       "    </tr>\n",
       "    <tr>\n",
       "      <th>¥¥¥</th>\n",
       "      <td>286.0</td>\n",
       "      <td>31.0</td>\n",
       "      <td>3.0</td>\n",
       "      <td>10.0</td>\n",
       "    </tr>\n",
       "    <tr>\n",
       "      <th>¥¥¥¥</th>\n",
       "      <td>105.0</td>\n",
       "      <td>48.0</td>\n",
       "      <td>23.0</td>\n",
       "      <td>0.0</td>\n",
       "    </tr>\n",
       "    <tr>\n",
       "      <th>฿</th>\n",
       "      <td>0.0</td>\n",
       "      <td>0.0</td>\n",
       "      <td>0.0</td>\n",
       "      <td>81.0</td>\n",
       "    </tr>\n",
       "    <tr>\n",
       "      <th>฿฿</th>\n",
       "      <td>1.0</td>\n",
       "      <td>0.0</td>\n",
       "      <td>0.0</td>\n",
       "      <td>114.0</td>\n",
       "    </tr>\n",
       "    <tr>\n",
       "      <th>฿฿฿</th>\n",
       "      <td>13.0</td>\n",
       "      <td>0.0</td>\n",
       "      <td>0.0</td>\n",
       "      <td>1.0</td>\n",
       "    </tr>\n",
       "    <tr>\n",
       "      <th>฿฿฿฿</th>\n",
       "      <td>14.0</td>\n",
       "      <td>7.0</td>\n",
       "      <td>0.0</td>\n",
       "      <td>0.0</td>\n",
       "    </tr>\n",
       "    <tr>\n",
       "      <th>₩</th>\n",
       "      <td>0.0</td>\n",
       "      <td>0.0</td>\n",
       "      <td>0.0</td>\n",
       "      <td>49.0</td>\n",
       "    </tr>\n",
       "    <tr>\n",
       "      <th>₩₩</th>\n",
       "      <td>0.0</td>\n",
       "      <td>0.0</td>\n",
       "      <td>0.0</td>\n",
       "      <td>8.0</td>\n",
       "    </tr>\n",
       "    <tr>\n",
       "      <th>₩₩₩</th>\n",
       "      <td>6.0</td>\n",
       "      <td>0.0</td>\n",
       "      <td>0.0</td>\n",
       "      <td>0.0</td>\n",
       "    </tr>\n",
       "    <tr>\n",
       "      <th>₩₩₩₩</th>\n",
       "      <td>18.0</td>\n",
       "      <td>7.0</td>\n",
       "      <td>1.0</td>\n",
       "      <td>0.0</td>\n",
       "    </tr>\n",
       "    <tr>\n",
       "      <th>₫</th>\n",
       "      <td>0.0</td>\n",
       "      <td>0.0</td>\n",
       "      <td>0.0</td>\n",
       "      <td>25.0</td>\n",
       "    </tr>\n",
       "    <tr>\n",
       "      <th>₫₫</th>\n",
       "      <td>2.0</td>\n",
       "      <td>0.0</td>\n",
       "      <td>0.0</td>\n",
       "      <td>4.0</td>\n",
       "    </tr>\n",
       "    <tr>\n",
       "      <th>₫₫₫₫</th>\n",
       "      <td>2.0</td>\n",
       "      <td>0.0</td>\n",
       "      <td>0.0</td>\n",
       "      <td>0.0</td>\n",
       "    </tr>\n",
       "    <tr>\n",
       "      <th>€</th>\n",
       "      <td>0.0</td>\n",
       "      <td>0.0</td>\n",
       "      <td>0.0</td>\n",
       "      <td>307.0</td>\n",
       "    </tr>\n",
       "    <tr>\n",
       "      <th>€€</th>\n",
       "      <td>26.0</td>\n",
       "      <td>0.0</td>\n",
       "      <td>0.0</td>\n",
       "      <td>1313.0</td>\n",
       "    </tr>\n",
       "    <tr>\n",
       "      <th>€€€</th>\n",
       "      <td>767.0</td>\n",
       "      <td>2.0</td>\n",
       "      <td>0.0</td>\n",
       "      <td>29.0</td>\n",
       "    </tr>\n",
       "    <tr>\n",
       "      <th>€€€€</th>\n",
       "      <td>1021.0</td>\n",
       "      <td>287.0</td>\n",
       "      <td>79.0</td>\n",
       "      <td>0.0</td>\n",
       "    </tr>\n",
       "    <tr>\n",
       "      <th>₺</th>\n",
       "      <td>0.0</td>\n",
       "      <td>0.0</td>\n",
       "      <td>0.0</td>\n",
       "      <td>10.0</td>\n",
       "    </tr>\n",
       "    <tr>\n",
       "      <th>₺₺</th>\n",
       "      <td>1.0</td>\n",
       "      <td>0.0</td>\n",
       "      <td>0.0</td>\n",
       "      <td>16.0</td>\n",
       "    </tr>\n",
       "    <tr>\n",
       "      <th>₺₺₺</th>\n",
       "      <td>6.0</td>\n",
       "      <td>0.0</td>\n",
       "      <td>0.0</td>\n",
       "      <td>0.0</td>\n",
       "    </tr>\n",
       "    <tr>\n",
       "      <th>₺₺₺₺</th>\n",
       "      <td>4.0</td>\n",
       "      <td>1.0</td>\n",
       "      <td>0.0</td>\n",
       "      <td>0.0</td>\n",
       "    </tr>\n",
       "  </tbody>\n",
       "</table>\n",
       "</div>"
      ],
      "text/plain": [
       "Award  1 Star  2 Stars  3 Stars  Bib Gourmand\n",
       "Price                                        \n",
       "$         1.0      0.0      0.0         266.0\n",
       "$$       37.0      3.0      0.0         533.0\n",
       "$$$     112.0     11.0      2.0          21.0\n",
       "$$$$    250.0     58.0     27.0           1.0\n",
       "£         0.0      0.0      0.0           4.0\n",
       "££        5.0      0.0      0.0          93.0\n",
       "£££      59.0      0.0      0.0           0.0\n",
       "££££     88.0     18.0      8.0           0.0\n",
       "¥         0.0      0.0      0.0         201.0\n",
       "¥¥       20.0      1.0      0.0         247.0\n",
       "¥¥¥     286.0     31.0      3.0          10.0\n",
       "¥¥¥¥    105.0     48.0     23.0           0.0\n",
       "฿         0.0      0.0      0.0          81.0\n",
       "฿฿        1.0      0.0      0.0         114.0\n",
       "฿฿฿      13.0      0.0      0.0           1.0\n",
       "฿฿฿฿     14.0      7.0      0.0           0.0\n",
       "₩         0.0      0.0      0.0          49.0\n",
       "₩₩        0.0      0.0      0.0           8.0\n",
       "₩₩₩       6.0      0.0      0.0           0.0\n",
       "₩₩₩₩     18.0      7.0      1.0           0.0\n",
       "₫         0.0      0.0      0.0          25.0\n",
       "₫₫        2.0      0.0      0.0           4.0\n",
       "₫₫₫₫      2.0      0.0      0.0           0.0\n",
       "€         0.0      0.0      0.0         307.0\n",
       "€€       26.0      0.0      0.0        1313.0\n",
       "€€€     767.0      2.0      0.0          29.0\n",
       "€€€€   1021.0    287.0     79.0           0.0\n",
       "₺         0.0      0.0      0.0          10.0\n",
       "₺₺        1.0      0.0      0.0          16.0\n",
       "₺₺₺       6.0      0.0      0.0           0.0\n",
       "₺₺₺₺      4.0      1.0      0.0           0.0"
      ]
     },
     "execution_count": 26,
     "metadata": {},
     "output_type": "execute_result"
    }
   ],
   "source": [
    "# Group the DataFrame by 'Award' and 'Price', then count the occurrences\n",
    "price_distribution = michelin_df.groupby(['Award', 'Price']).size().reset_index(name='Count')\n",
    "\n",
    "# Pivot the table to get Awards on the index and Prices on the columns\n",
    "price_distribution_pivoted = price_distribution.pivot(index='Price', columns='Award', values='Count').fillna(0)\n",
    "\n",
    "price_distribution_pivoted\n",
    "\n"
   ]
  },
  {
   "cell_type": "code",
   "execution_count": 33,
   "metadata": {},
   "outputs": [
    {
     "data": {
      "image/png": "[encoded data removed]",
      "text/plain": [
       "<Figure size 576x432 with 1 Axes>"
      ]
     },
     "metadata": {},
     "output_type": "display_data"
    },
    {
     "data": {
      "image/png": "[encoded data removed]",
      "text/plain": [
       "<Figure size 576x432 with 1 Axes>"
      ]
     },
     "metadata": {},
     "output_type": "display_data"
    },
    {
     "data": {
      "image/png": "[encoded data removed]",
      "text/plain": [
       "<Figure size 576x432 with 1 Axes>"
      ]
     },
     "metadata": {},
     "output_type": "display_data"
    },
    {
     "data": {
      "image/png": "[encoded data removed]",
      "text/plain": [
       "<Figure size 576x432 with 1 Axes>"
      ]
     },
     "metadata": {},
     "output_type": "display_data"
    }
   ],
   "source": [
    "import matplotlib.pyplot as plt\n",
    "import pandas as pd\n",
    "import numpy as np\n",
    "\n",
    "# Visualize manually\n",
    "data = {\n",
    "    'Price': ['$','$$','$$$','$$$$','£','££','£££','££££','¥','¥¥','¥¥¥','¥¥¥¥','฿','฿฿','฿฿฿','฿฿฿฿','₩','₩₩','₩₩₩','₩₩₩₩','₫','₫₫','₫₫₫₫','€','€€','€€€','€€€€','₺','₺₺','₺₺₺','₺₺₺₺'],\n",
    "    '1 Star': [1, 37, 112, 250, 0, 5, 59, 88, 0, 20, 286, 105, 0, 1, 13, 14, 0, 0, 6, 18, 0, 2, 2, 0, 26, 767, 1021, 0, 1, 6, 4],\n",
    "    '2 Stars': [0, 3, 11, 58, 0, 0, 0, 18, 0, 1, 31, 48, 0, 0, 0, 7, 0, 0, 0, 7, 0, 0, 0, 0, 0, 2, 287, 0, 0, 0, 1],\n",
    "    '3 Stars': [0, 0, 2, 27, 0, 0, 0, 8, 0, 0, 3, 23, 0, 0, 0, 0, 0, 0, 0, 1, 0, 0, 0, 0, 0, 0, 79, 0, 0, 0, 0],\n",
    "    'Bib Gourmand': [266, 533, 21, 1, 4, 93, 0, 0, 201, 247, 10, 0, 81, 114, 1, 0, 49, 8, 0, 0, 25, 4, 0, 307, 1313, 29, 0, 10, 16, 0, 0]\n",
    "}\n",
    "\n",
    "df = pd.DataFrame(data)\n",
    "\n",
    "\n",
    "# A mapping with currency abbreviations\n",
    "price_mapping = {\n",
    "    '$': 'Low USD', '$$': 'Moderate USD', '$$$': 'High USD', '$$$$': 'Very High USD',\n",
    "    '£': 'Low GBP', '££': 'Moderate GBP', '£££': 'High GBP', '££££': 'Very High GBP',\n",
    "    '¥': 'Low JPY', '¥¥': 'Moderate JPY', '¥¥¥': 'High JPY', '¥¥¥¥': 'Very High JPY',\n",
    "    '฿': 'Low THB', '฿฿': 'Moderate THB', '฿฿฿': 'High THB', '฿฿฿฿': 'Very High THB',\n",
    "    '₩': 'Low KRW', '₩₩': 'Moderate KRW', '₩₩₩': 'High KRW', '₩₩₩₩': 'Very High KRW',\n",
    "    '₫': 'Low VND', '₫₫': 'Moderate VND', '₫₫₫': 'High VND', '₫₫₫₫': 'Very High VND',\n",
    "    '€': 'Low EUR', '€€': 'Moderate EUR', '€€€': 'High EUR', '€€€€': 'Very High EUR',\n",
    "    '₺': 'Low TRY', '₺₺': 'Moderate TRY', '₺₺₺': 'High TRY', '₺₺₺₺': 'Very High TRY',\n",
    "}\n",
    "\n",
    "# Apply the mapping to the 'Price' column\n",
    "df['Price'] = df['Price'].map(price_mapping)\n",
    "\n",
    "# Set the index to 'Price' column for plotting\n",
    "df.set_index('Price', inplace=True)\n",
    "awards = ['1 Star', '2 Stars', '3 Stars', 'Bib Gourmand']\n",
    "colors = ['#1f77b4', '#ff7f0e', '#2ca02c', '#d62728']  # Example colors for the bars\n",
    "\n",
    "for award, color in zip(awards, colors):\n",
    "    # Filter out rows where the value is 0 for the current award\n",
    "    filtered_df = df[df[award] > 0]\n",
    "\n",
    "    # Create a new figure for each award category\n",
    "    plt.figure(figsize=(8, 6))\n",
    "    \n",
    "    # Plot using horizontal bar chart ('barh')\n",
    "    ax = filtered_df[award].plot(kind='barh', color=color, title=f'{award} Price Distribution')\n",
    "    \n",
    "    # Add value labels to each bar\n",
    "    for i, (price, value) in enumerate(filtered_df[award].items()):\n",
    "        ax.text(value, i, f' {value}', va='center', ha='left')\n",
    "\n",
    "    ax.set_xlabel('Number of Restaurants')\n",
    "    ax.set_ylabel('Price Range')\n",
    "\n",
    "    # Show the plot\n",
    "    plt.tight_layout()\n",
    "    plt.show()\n"
   ]
  },
  {
   "cell_type": "markdown",
   "metadata": {},
   "source": [
    "---"
   ]
  },
  {
   "cell_type": "markdown",
   "metadata": {},
   "source": [
    "## EDA Step 6: Currency and Money Processing for Future Usage"
   ]
  },
  {
   "cell_type": "markdown",
   "metadata": {},
   "source": [
    "`Monthly Average Income Conversion to Local Currencies for Restaurant Price Comparison`\n",
    "\n",
    "This code block performs the following operations:\n",
    "\n",
    "- Maps a list of countries to their respective currencies and currency symbols, setting up for currency conversion.\n",
    "- Provides approximate annual average incomes in USD for each country.\n",
    "- Calculates the monthly income by dividing the annual income by 12.\n",
    "- Defines exchange rates for converting USD to the local currency of each country.\n",
    "- Converts monthly incomes from USD to each country's local currency using the exchange rates.\n",
    "- Rounds the converted monthly incomes for neatness and practicality.\n",
    "- Prints each country's name alongside the respective local currency monthly average income.\n",
    "\n",
    "The purpose of this conversion is to contextualize the average incomes in relation to the cost of dining in Michelin Guide-listed restaurants. By understanding the local purchasing power, one can assess the accessibility of these restaurants for the average person in each country. \n",
    "\n",
    "This data can be utilized on the website to filter restaurants by price and to compare statistics between the location of the restaurant and the financial capability of the public to dine there, enhancing user experience and providing valuable insights for market analysis.\n"
   ]
  },
  {
   "cell_type": "code",
   "execution_count": null,
   "metadata": {},
   "outputs": [
    {
     "data": {
      "text/html": [
       "<div>\n",
       "<style scoped>\n",
       "    .dataframe tbody tr th:only-of-type {\n",
       "        vertical-align: middle;\n",
       "    }\n",
       "\n",
       "    .dataframe tbody tr th {\n",
       "        vertical-align: top;\n",
       "    }\n",
       "\n",
       "    .dataframe thead th {\n",
       "        text-align: right;\n",
       "    }\n",
       "</style>\n",
       "<table border=\"1\" class=\"dataframe\">\n",
       "  <thead>\n",
       "    <tr style=\"text-align: right;\">\n",
       "      <th></th>\n",
       "      <th>Name</th>\n",
       "      <th>Address</th>\n",
       "      <th>Location</th>\n",
       "      <th>Price</th>\n",
       "      <th>Cuisine</th>\n",
       "      <th>Longitude</th>\n",
       "      <th>Latitude</th>\n",
       "      <th>PhoneNumber</th>\n",
       "      <th>Url</th>\n",
       "      <th>WebsiteUrl</th>\n",
       "      <th>Award</th>\n",
       "      <th>FacilitiesAndServices</th>\n",
       "      <th>Description</th>\n",
       "      <th>Country</th>\n",
       "      <th>Continent</th>\n",
       "      <th>PrimaryCuisine</th>\n",
       "    </tr>\n",
       "  </thead>\n",
       "  <tbody>\n",
       "    <tr>\n",
       "      <th>0</th>\n",
       "      <td>L'OSIER</td>\n",
       "      <td>7-5-5 Ginza, Chuo-ku, Tokyo, 104-0061, Japan</td>\n",
       "      <td>Tokyo, Japan</td>\n",
       "      <td>¥¥¥¥</td>\n",
       "      <td>French, Contemporary</td>\n",
       "      <td>139.761203</td>\n",
       "      <td>35.669667</td>\n",
       "      <td>8.133572e+10</td>\n",
       "      <td>https://guide.michelin.com/en/tokyo-region/tok...</td>\n",
       "      <td>https://losier.shiseido.co.jp/</td>\n",
       "      <td>3 Stars</td>\n",
       "      <td>Air conditioning,Car park,Interesting wine list</td>\n",
       "      <td>In 2023 L’OSIER celebrated the 50th anniversar...</td>\n",
       "      <td>Japan</td>\n",
       "      <td>Asia</td>\n",
       "      <td>French</td>\n",
       "    </tr>\n",
       "    <tr>\n",
       "      <th>1</th>\n",
       "      <td>Azabu Kadowaki</td>\n",
       "      <td>2-7-2 Azabujuban, Minato-ku, Tokyo, 106-0045, ...</td>\n",
       "      <td>Tokyo, Japan</td>\n",
       "      <td>¥¥¥¥</td>\n",
       "      <td>Japanese</td>\n",
       "      <td>139.733551</td>\n",
       "      <td>35.655993</td>\n",
       "      <td>8.135772e+10</td>\n",
       "      <td>https://guide.michelin.com/en/tokyo-region/tok...</td>\n",
       "      <td>NaN</td>\n",
       "      <td>3 Stars</td>\n",
       "      <td>Air conditioning,Counter dining</td>\n",
       "      <td>Toshiya Kadowaki’s aim is to serve up “unforge...</td>\n",
       "      <td>Japan</td>\n",
       "      <td>Asia</td>\n",
       "      <td>Japanese</td>\n",
       "    </tr>\n",
       "    <tr>\n",
       "      <th>2</th>\n",
       "      <td>Kohaku</td>\n",
       "      <td>3-4 Kagurazaka, Shinjuku-ku, Tokyo, 162-0825, ...</td>\n",
       "      <td>Tokyo, Japan</td>\n",
       "      <td>¥¥¥¥</td>\n",
       "      <td>Japanese</td>\n",
       "      <td>139.741008</td>\n",
       "      <td>35.700701</td>\n",
       "      <td>8.150314e+11</td>\n",
       "      <td>https://guide.michelin.com/en/tokyo-region/tok...</td>\n",
       "      <td>http://kagurazaka-kohaku.jp/</td>\n",
       "      <td>3 Stars</td>\n",
       "      <td>Air conditioning,Counter dining,Interesting wi...</td>\n",
       "      <td>Koji Koizumi creates a cuisine all his own as ...</td>\n",
       "      <td>Japan</td>\n",
       "      <td>Asia</td>\n",
       "      <td>Japanese</td>\n",
       "    </tr>\n",
       "  </tbody>\n",
       "</table>\n",
       "</div>"
      ],
      "text/plain": [
       "             Name                                            Address  \\\n",
       "0         L'OSIER       7-5-5 Ginza, Chuo-ku, Tokyo, 104-0061, Japan   \n",
       "1  Azabu Kadowaki  2-7-2 Azabujuban, Minato-ku, Tokyo, 106-0045, ...   \n",
       "2          Kohaku  3-4 Kagurazaka, Shinjuku-ku, Tokyo, 162-0825, ...   \n",
       "\n",
       "       Location Price               Cuisine   Longitude   Latitude  \\\n",
       "0  Tokyo, Japan  ¥¥¥¥  French, Contemporary  139.761203  35.669667   \n",
       "1  Tokyo, Japan  ¥¥¥¥              Japanese  139.733551  35.655993   \n",
       "2  Tokyo, Japan  ¥¥¥¥              Japanese  139.741008  35.700701   \n",
       "\n",
       "    PhoneNumber                                                Url  \\\n",
       "0  8.133572e+10  https://guide.michelin.com/en/tokyo-region/tok...   \n",
       "1  8.135772e+10  https://guide.michelin.com/en/tokyo-region/tok...   \n",
       "2  8.150314e+11  https://guide.michelin.com/en/tokyo-region/tok...   \n",
       "\n",
       "                       WebsiteUrl    Award  \\\n",
       "0  https://losier.shiseido.co.jp/  3 Stars   \n",
       "1                             NaN  3 Stars   \n",
       "2    http://kagurazaka-kohaku.jp/  3 Stars   \n",
       "\n",
       "                               FacilitiesAndServices  \\\n",
       "0    Air conditioning,Car park,Interesting wine list   \n",
       "1                    Air conditioning,Counter dining   \n",
       "2  Air conditioning,Counter dining,Interesting wi...   \n",
       "\n",
       "                                         Description Country Continent  \\\n",
       "0  In 2023 L’OSIER celebrated the 50th anniversar...   Japan      Asia   \n",
       "1  Toshiya Kadowaki’s aim is to serve up “unforge...   Japan      Asia   \n",
       "2  Koji Koizumi creates a cuisine all his own as ...   Japan      Asia   \n",
       "\n",
       "  PrimaryCuisine  \n",
       "0         French  \n",
       "1       Japanese  \n",
       "2       Japanese  "
      ]
     },
     "execution_count": 25,
     "metadata": {},
     "output_type": "execute_result"
    }
   ],
   "source": [
    "michelin_df.head(3)"
   ]
  },
  {
   "cell_type": "markdown",
   "metadata": {},
   "source": [
    "Additionally, the Michelin Guide categorizes restaurants by different price ranges, which can be referenced on their official website at [Michelin Guide's Price Ranges Index](https://guide.michelin.com/en/restaurants-price-ranges-index). \n",
    "\n",
    "This categorization helps to further analyze the affordability and accessibility of Michelin-listed restaurants relative to the average monthly income in each country. \n",
    "\n",
    "By integrating this price range data with the average income statistics, the website can provide a comprehensive overview of how restaurant prices align with local economic conditions, offering a nuanced tool for individuals to gauge dining options within their financial reach.\n"
   ]
  },
  {
   "cell_type": "code",
   "execution_count": null,
   "metadata": {},
   "outputs": [
    {
     "data": {
      "text/plain": [
       "Index(['France', 'Japan', 'Italy', 'USA', 'Germany', 'Spain', 'United Kingdom',\n",
       "       'Belgium', 'Switzerland', 'China Mainland', 'Thailand', 'Netherlands',\n",
       "       'Taiwan', 'Hong Kong SAR China', 'Singapore', 'South Korea', 'Portugal',\n",
       "       'Canada', 'Malaysia', 'Brazil', 'Denmark', 'United Arab Emirates',\n",
       "       'Türkiye', 'Vietnam', 'Ireland', 'Sweden', 'Austria', 'Croatia',\n",
       "       'Macau SAR China', 'Norway', 'Greece', 'Slovenia', 'Luxembourg',\n",
       "       'Hungary', 'Argentina', 'Poland', 'Malta', 'Finland', 'Estonia',\n",
       "       'Czech Republic', 'Latvia', 'Iceland', 'Serbia', 'Andorra'],\n",
       "      dtype='object')"
      ]
     },
     "execution_count": 26,
     "metadata": {},
     "output_type": "execute_result"
    }
   ],
   "source": [
    "michelin_df.Country.value_counts().index"
   ]
  },
  {
   "cell_type": "code",
   "execution_count": null,
   "metadata": {},
   "outputs": [
    {
     "name": "stdout",
     "output_type": "stream",
     "text": [
      "France: €3193.52\n",
      "Japan: ¥512176.96\n",
      "Italy: €2726.35\n",
      "USA: $5476.0\n",
      "Germany: €3660.68\n",
      "Spain: €2342.08\n",
      "United Kingdom: £2803.05\n",
      "Belgium: €3620.51\n",
      "Switzerland: CHF6405.12\n",
      "China Mainland: ¥6281.57\n",
      "Thailand: ฿22986.63\n",
      "Netherlands: €4034.77\n",
      "Taiwan: NT$68817.89\n",
      "Hong Kong SAR China: HK$32405.02\n",
      "Singapore: S$7219.88\n",
      "South Korea: ₩3581653.23\n",
      "Portugal: €1816.08\n",
      "Canada: C$5258.24\n",
      "Malaysia: RM4575.54\n",
      "Brazil: R$3703.8\n",
      "Denmark: DKK34762.39\n",
      "United Arab Emirates: AED13190.4\n",
      "Türkiye: ₺24764.03\n",
      "Vietnam: ₫4748062.02\n",
      "Ireland: €6065.61\n",
      "Sweden: SEK47662.34\n",
      "Austria: €3915.63\n",
      "Croatia: €1099.13\n",
      "Macau SAR China: MOP$18778.09\n",
      "Norway: NOK73397.89\n",
      "Greece: €1650.43\n",
      "Slovenia: €1976.78\n",
      "Luxembourg: €8997.94\n",
      "Hungary: Ft485829.96\n",
      "Argentina: ARS$705982.91\n",
      "Poland: zł5284.44\n",
      "Malta: €2600.5\n",
      "Finland: €3802.88\n",
      "Estonia: €1772.43\n",
      "Czech Republic: €1767.34\n",
      "Latvia: €1470.44\n",
      "Iceland: ISK841178.5\n",
      "Serbia: din.66167.7\n",
      "Andorra: €3102.83\n"
     ]
    }
   ],
   "source": [
    "countries = [\n",
    "    'France', 'Japan', 'Italy', 'USA', 'Germany', 'Spain', 'United Kingdom',\n",
    "    'Belgium', 'Switzerland', 'China Mainland', 'Thailand', 'Netherlands',\n",
    "    'Taiwan', 'Hong Kong SAR China', 'Singapore', 'South Korea', 'Portugal',\n",
    "    'Canada', 'Malaysia', 'Brazil', 'Denmark', 'United Arab Emirates',\n",
    "    'Türkiye', 'Vietnam', 'Ireland', 'Sweden', 'Austria', 'Croatia',\n",
    "    'Macau SAR China', 'Norway', 'Greece', 'Slovenia', 'Luxembourg',\n",
    "    'Hungary', 'Argentina', 'Poland', 'Malta', 'Finland', 'Estonia',\n",
    "    'Czech Republic', 'Latvia', 'Iceland', 'Serbia', 'Andorra'\n",
    "]\n",
    "\n",
    "# Mapping countries to their currencies for conversion\n",
    "countries_currencies = [\n",
    "    'EUR', 'JPY', 'EUR', 'USD', 'EUR', 'EUR', 'GBP', \n",
    "    'EUR', 'CHF', 'CNY', 'THB', 'EUR', \n",
    "    'TWD', 'HKD', 'SGD', 'KRW', 'EUR', \n",
    "    'CAD', 'MYR', 'BRL', 'DKK', 'AED', \n",
    "    'TRY', 'VND', 'EUR', 'SEK', 'EUR', 'EUR', \n",
    "    'MOP', 'NOK', 'EUR', 'EUR', 'EUR', \n",
    "    'HUF', 'ARS', 'PLN', 'EUR', 'EUR', 'EUR', \n",
    "    'EUR', 'EUR', 'ISK', 'RSD', 'EUR'\n",
    "]\n",
    "\n",
    "# Currency symbols for printing\n",
    "currency_symbols = {\n",
    "    'EUR': '€', 'JPY': '¥', 'GBP': '£', 'CHF': 'CHF', 'CNY': '¥',\n",
    "    'THB': '฿', 'TWD': 'NT$', 'HKD': 'HK$', 'SGD': 'S$', 'KRW': '₩',\n",
    "    'CAD': 'C$', 'MYR': 'RM', 'BRL': 'R$', 'DKK': 'DKK', 'AED': 'AED',\n",
    "    'TRY': '₺', 'VND': '₫', 'SEK': 'SEK', 'NOK': 'NOK', 'ISK': 'ISK',\n",
    "    'USD': '$', 'PLN': 'zł', 'HUF': 'Ft', 'RSD': 'din.', 'MOP': 'MOP$', 'ARS':'ARS$'\n",
    "}\n",
    "\n",
    "# Approximate annual average incomes in USD (from the previous list)\n",
    "annual_average_incomes_usd = [\n",
    "    41412, 40589, 35354, 65712, 47470, 30371, 42361, 46949, 85582, 10427, \n",
    "    7590, 52321, 25848, 49722, 64184, 31977, 23550, 46363, 11589, 8890, \n",
    "    60439, 43100, 9277, 2450, 78656, 54108, 50776, 14253, 27972, 81905, \n",
    "    21402, 25634, 116681, 15840, 9912, 15848, 33722, 49314, 22984, 22918, \n",
    "    19068, 73233, 7320, 40236\n",
    "]\n",
    "\n",
    "# Monthly incomes (by dividing annual incomes by 12)\n",
    "monthly_incomes_usd = [income / 12 for income in annual_average_incomes_usd]\n",
    "\n",
    "exchange_rates_to_usd = {\n",
    "    'EUR': 1.080627, # Euro zone\n",
    "    'JPY': 0.006604, # Japan\n",
    "    'GBP': 1.259371, # United Kingdom\n",
    "    'CHF': 1.113458, # Switzerland\n",
    "    'CNY': 0.138328, # China Mainland\n",
    "    'THB': 0.027516, # Thailand\n",
    "    'TWD': 0.031300, # Taiwan\n",
    "    'HKD': 0.127866, # Hong Kong SAR China\n",
    "    'SGD': 0.740825, # Singapore\n",
    "    'KRW': 0.000744, # South Korea\n",
    "    'CAD': 0.734767, # Canada\n",
    "    'MYR': 0.211068, # Malaysia\n",
    "    'BRL': 0.200020, # Brazil\n",
    "    'DKK': 0.144886, # Denmark\n",
    "    'AED': 0.272294, # United Arab Emirates\n",
    "    'TRY': 0.031218, # Türkiye\n",
    "    'VND': 0.000043, # Vietnam\n",
    "    'SEK': 0.094603, # Sweden\n",
    "    'NOK': 0.092992, # Norway\n",
    "    'ISK': 0.007255, # Iceland\n",
    "    'USD': 1, # USA and other USD users\n",
    "    'PLN': 0.249916, # Poland\n",
    "    'HUF': 0.002717, # Hungary\n",
    "    'RSD': 0.009219, # Serbia\n",
    "    'MOP': 0.124134, # Macau SAR China\n",
    "    'ARS': 0.001170, # Argentine Peso\n",
    "}\n",
    "\n",
    "# Converting monthly incomes from USD to local currency using exchange rates\n",
    "rounded_monthly_incomes_local = [\n",
    "    round(income_usd / exchange_rates_to_usd[currency], 2)\n",
    "    for income_usd, currency in zip(monthly_incomes_usd, countries_currencies)\n",
    "]\n",
    "\n",
    "# Printing country name and respective local currency monthly average income\n",
    "for country, income, currency in zip(countries, rounded_monthly_incomes_local, countries_currencies):\n",
    "    print(f\"{country}: {currency_symbols[currency]}{income}\")\n"
   ]
  },
  {
   "cell_type": "markdown",
   "metadata": {},
   "source": [
    "---"
   ]
  }
 ],
 "metadata": {
  "kernelspec": {
   "display_name": "Python 3.9.7 ('adaexam')",
   "language": "python",
   "name": "python3"
  },
  "language_info": {
   "codemirror_mode": {
    "name": "ipython",
    "version": 3
   },
   "file_extension": ".py",
   "mimetype": "text/x-python",
   "name": "python",
   "nbconvert_exporter": "python",
   "pygments_lexer": "ipython3",
   "version": "3.9.7"
  },
  "orig_nbformat": 4,
  "vscode": {
   "interpreter": {
    "hash": "ac2ffbe8dbb59a1c60c0e2eb623ef477230c259ce7849da2c0462993ab434221"
   }
  }
 },
 "nbformat": 4,
 "nbformat_minor": 2
}
