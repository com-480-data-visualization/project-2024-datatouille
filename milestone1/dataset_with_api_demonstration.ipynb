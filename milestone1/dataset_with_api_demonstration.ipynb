{
 "cells": [
  {
   "cell_type": "code",
   "execution_count": 1,
   "metadata": {},
   "outputs": [],
   "source": [
    "import pandas as pd\n",
    "from tools.api_call import *\n",
    "%load_ext autoreload\n",
    "%autoreload 2"
   ]
  },
  {
   "cell_type": "markdown",
   "metadata": {},
   "source": [
    "## Loading Michelin Data\n",
    "\n",
    "We first load and demonstate the contents of the [Michelin Guide Restaurants](https://www.kaggle.com/datasets/ngshiheng/michelin-guide-restaurants-2021) dataset, which will be our main data source."
   ]
  },
  {
   "cell_type": "code",
   "execution_count": 7,
   "metadata": {},
   "outputs": [],
   "source": [
    "# Load the data\n",
    "michelin_df = pd.read_csv('michelin_my_maps.csv')\n",
    "michelin_df[\"QueryText\"] = michelin_df[\"Name\"] + \" \" + michelin_df[\"Address\"]"
   ]
  },
  {
   "cell_type": "code",
   "execution_count": 8,
   "metadata": {},
   "outputs": [],
   "source": [
    "# Selected restaurants to demonstrate the API\n",
    "\n",
    "europe_indexes = [113,83,114,71,106,72,29,54,101,34]\n",
    "asia_indexes = [139,67,51,79,265]\n",
    "usa_indexes = [42,43,44,45,46]\n",
    "\n",
    "all_indexes = europe_indexes + asia_indexes + usa_indexes"
   ]
  },
  {
   "cell_type": "code",
   "execution_count": 9,
   "metadata": {},
   "outputs": [
    {
     "data": {
      "text/plain": [
       "Name                                             Enrico Bartolini al Mudec\n",
       "Address                                via Tortona 56, Milan, 20144, Italy\n",
       "Location                                                      Milan, Italy\n",
       "Price                                                                 €€€€\n",
       "Cuisine                                                           Creative\n",
       "Longitude                                                         9.161865\n",
       "Latitude                                                           45.4516\n",
       "PhoneNumber                                                 390284293701.0\n",
       "Url                      https://guide.michelin.com/en/lombardia/milano...\n",
       "WebsiteUrl                                  http://www.enricobartolini.net\n",
       "Award                                                              3 Stars\n",
       "FacilitiesAndServices    Air conditioning,Car park,Interesting wine lis...\n",
       "Description              Enrico Bartolini, who has been awarded more Mi...\n",
       "QueryText                Enrico Bartolini al Mudec via Tortona 56, Mila...\n",
       "Name: 34, dtype: object"
      ]
     },
     "execution_count": 9,
     "metadata": {},
     "output_type": "execute_result"
    }
   ],
   "source": [
    "# One row of the Michelin data\n",
    "test_entry = michelin_df.loc[34]\n",
    "test_entry"
   ]
  },
  {
   "cell_type": "markdown",
   "metadata": {},
   "source": [
    "# Google Places API\n",
    "We also plan to extend the data with [Google Places API](https://developers.google.com/maps/documentation/places/web-service/overview?hl=tr), using two methods implemented in `api_call.py`:\n",
    "* **`search_places(query_text)`**: Returns Google Maps ID from name and address of the restaurant.\n",
    "\n",
    "* **`get_google_location_details(location_id)`**: Returns the relevant information about the restaurant."
   ]
  },
  {
   "cell_type": "code",
   "execution_count": 10,
   "metadata": {},
   "outputs": [
    {
     "data": {
      "text/plain": [
       "'ChIJr54jbebDhkcRlR68yNtO368'"
      ]
     },
     "execution_count": 10,
     "metadata": {},
     "output_type": "execute_result"
    }
   ],
   "source": [
    "# Retrieve the location id of the restaurant using Places API\n",
    "location_id = search_places(test_entry[\"QueryText\"])\n",
    "location_id"
   ]
  },
  {
   "cell_type": "code",
   "execution_count": 21,
   "metadata": {},
   "outputs": [],
   "source": [
    "# Retrieve the details of the restaurant using Places API giving the Google location id\n",
    "google_location_details = get_google_location_details(location_id)"
   ]
  },
  {
   "cell_type": "code",
   "execution_count": 15,
   "metadata": {},
   "outputs": [
    {
     "data": {
      "text/plain": [
       "['Monday: Closed',\n",
       " 'Tuesday: 12:30\\u2009–\\u20092:00\\u202fPM, 7:30\\u2009–\\u200910:00\\u202fPM',\n",
       " 'Wednesday: 12:30\\u2009–\\u20092:00\\u202fPM, 7:30\\u2009–\\u200910:00\\u202fPM',\n",
       " 'Thursday: 12:30\\u2009–\\u20092:00\\u202fPM, 7:30\\u2009–\\u200910:00\\u202fPM',\n",
       " 'Friday: 12:30\\u2009–\\u20092:00\\u202fPM, 7:30\\u2009–\\u200910:00\\u202fPM',\n",
       " 'Saturday: 12:30\\u2009–\\u20092:00\\u202fPM, 7:30\\u2009–\\u200910:00\\u202fPM',\n",
       " 'Sunday: Closed']"
      ]
     },
     "execution_count": 15,
     "metadata": {},
     "output_type": "execute_result"
    }
   ],
   "source": [
    "# Opening Hours\n",
    "google_location_details[\"currentOpeningHours\"][\"weekdayDescriptions\"]"
   ]
  },
  {
   "cell_type": "code",
   "execution_count": 20,
   "metadata": {},
   "outputs": [
    {
     "data": {
      "text/plain": [
       "{'wheelchairAccessibleEntrance': True,\n",
       " 'wheelchairAccessibleRestroom': True,\n",
       " 'wheelchairAccessibleSeating': True}"
      ]
     },
     "execution_count": 20,
     "metadata": {},
     "output_type": "execute_result"
    }
   ],
   "source": [
    "# Various details like accessibility options\n",
    "google_location_details[\"accessibilityOptions\"]"
   ]
  },
  {
   "cell_type": "code",
   "execution_count": 12,
   "metadata": {},
   "outputs": [
    {
     "data": {
      "text/plain": [
       "{'name': 'places/ChIJr54jbebDhkcRlR68yNtO368/reviews/ChZDSUhNMG9nS0VJQ0FnSUNsenBDRFp3EAE',\n",
       " 'relativePublishTimeDescription': '4 months ago',\n",
       " 'rating': 5,\n",
       " 'text': {'text': \"Enrico Bartolini's food is amazing! The flavors are unique, and every dish feels like a work of art. The restaurant has a classy vibe, and the service is top-notch. If you love great food, this place is a must-try!\",\n",
       "  'languageCode': 'en'},\n",
       " 'originalText': {'text': \"Enrico Bartolini's food is amazing! The flavors are unique, and every dish feels like a work of art. The restaurant has a classy vibe, and the service is top-notch. If you love great food, this place is a must-try!\",\n",
       "  'languageCode': 'en'},\n",
       " 'authorAttribution': {'displayName': 'Tze Haw Lo',\n",
       "  'uri': 'https://www.google.com/maps/contrib/103491011197596279014/reviews',\n",
       "  'photoUri': 'https://lh3.googleusercontent.com/a/ACg8ocL3NbEh6t0EBNk_d2e1zW7ANwlAUwk9nkjena8VFgTAu58=s128-c0x00000000-cc-rp-mo'},\n",
       " 'publishTime': '2023-11-18T14:29:32Z'}"
      ]
     },
     "execution_count": 12,
     "metadata": {},
     "output_type": "execute_result"
    }
   ],
   "source": [
    "# Reviews\n",
    "google_location_details[\"reviews\"][0]"
   ]
  },
  {
   "cell_type": "code",
   "execution_count": 12,
   "metadata": {},
   "outputs": [],
   "source": [
    "# Usage of the API for all the selected restaurants\n",
    "\n",
    "all_location_details = []\n",
    "for index in all_indexes:\n",
    "    test_entry = michelin_df.loc[index]\n",
    "    location_id = search_places(test_entry[\"QueryText\"])\n",
    "    google_location_details = get_google_location_details(location_id)\n",
    "    all_location_details.append(google_location_details)"
   ]
  },
  {
   "cell_type": "code",
   "execution_count": 14,
   "metadata": {},
   "outputs": [],
   "source": [
    "# Save the data\n",
    "google_api_df = pd.DataFrame(all_location_details)\n",
    "google_api_df.to_pickle(\"google_api_df.pkl\")"
   ]
  },
  {
   "cell_type": "code",
   "execution_count": 46,
   "metadata": {},
   "outputs": [],
   "source": [
    "# Load the data\n",
    "google_api_df = pd.read_pickle(\"google_api_df.pkl\")"
   ]
  },
  {
   "cell_type": "code",
   "execution_count": 60,
   "metadata": {},
   "outputs": [
    {
     "data": {
      "text/plain": [
       "Index(['name', 'id', 'types', 'nationalPhoneNumber',\n",
       "       'internationalPhoneNumber', 'formattedAddress', 'addressComponents',\n",
       "       'plusCode', 'location', 'viewport', 'rating', 'googleMapsUri',\n",
       "       'websiteUri', 'regularOpeningHours', 'utcOffsetMinutes',\n",
       "       'adrFormatAddress', 'businessStatus', 'priceLevel', 'userRatingCount',\n",
       "       'iconMaskBaseUri', 'iconBackgroundColor', 'displayName',\n",
       "       'primaryTypeDisplayName', 'currentOpeningHours', 'primaryType',\n",
       "       'shortFormattedAddress', 'editorialSummary', 'reviews', 'photos',\n",
       "       'goodForChildren', 'accessibilityOptions', 'paymentOptions', 'delivery',\n",
       "       'dineIn', 'reservable', 'servesBreakfast', 'servesLunch',\n",
       "       'servesDinner', 'servesBeer', 'servesWine', 'servesBrunch',\n",
       "       'servesVegetarianFood', 'outdoorSeating', 'liveMusic',\n",
       "       'menuForChildren', 'servesCocktails', 'servesDessert', 'servesCoffee',\n",
       "       'restroom', 'goodForGroups', 'goodForWatchingSports', 'parkingOptions',\n",
       "       'takeout', 'allowsDogs', 'curbsidePickup'],\n",
       "      dtype='object')"
      ]
     },
     "execution_count": 60,
     "metadata": {},
     "output_type": "execute_result"
    }
   ],
   "source": [
    "# All columns present in the API response\n",
    "google_api_df.columns"
   ]
  },
  {
   "cell_type": "markdown",
   "metadata": {},
   "source": [
    "# TheFork API\n",
    "For selected restaurants in Europe, we can also retrieve additional information from [The Fork The Spoon API](https://rapidapi.com/apidojo/api/the-fork-the-spoon), using two methods implemented in `api_call.py`:\n",
    "* **`get_the_fork_autocomplete(name,latitude,longitude)`**: Returns TheFork autocomplete results and sorts them with respect to their distance to point in (latitude, longitute). We use to TheFork `id` field to feed into another API call.\n",
    "\n",
    "* **`get_the_fork_data(restaurant_id)`**: Returns TheFork information on the specified restaurant."
   ]
  },
  {
   "cell_type": "code",
   "execution_count": 26,
   "metadata": {},
   "outputs": [],
   "source": [
    "# API call to the TheFork API for retrieving TheFork ids using restaurant name and coordinates\n",
    "the_fork_autocomplete = get_the_fork_autocomplete(test_entry['Name'],\n",
    "                                                  test_entry[\"Latitude\"],\n",
    "                                                  test_entry[\"Longitude\"])"
   ]
  },
  {
   "cell_type": "code",
   "execution_count": 30,
   "metadata": {},
   "outputs": [
    {
     "data": {
      "text/plain": [
       "'276943'"
      ]
     },
     "execution_count": 30,
     "metadata": {},
     "output_type": "execute_result"
    }
   ],
   "source": [
    "# Extracting TheFork id from responses\n",
    "restaurant_id = the_fork_autocomplete[\"data\"][\"autocomplete\"][0][\"id\"]\n",
    "restaurant_id"
   ]
  },
  {
   "cell_type": "code",
   "execution_count": 31,
   "metadata": {},
   "outputs": [],
   "source": [
    "# API call to TheFork API for retrieving restaurant details using TheFork id\n",
    "fork_info = get_the_fork_data(restaurant_id)"
   ]
  },
  {
   "cell_type": "code",
   "execution_count": 38,
   "metadata": {},
   "outputs": [
    {
     "data": {
      "text/plain": [
       "'Enrico Bartolini '"
      ]
     },
     "execution_count": 38,
     "metadata": {},
     "output_type": "execute_result"
    }
   ],
   "source": [
    "# Chef name\n",
    "restaurant_data = fork_info[\"data\"][\"restaurant\"]\n",
    "restaurant_data[\"chefName\"]"
   ]
  },
  {
   "cell_type": "code",
   "execution_count": 52,
   "metadata": {},
   "outputs": [
    {
     "name": "stdout",
     "output_type": "stream",
     "text": [
      "SOLO A PRANZO - 3 portate del giorno €300\n",
      "\tThis preset menu includes: 1° PORTATA + 2° PORTATA + 3° PORTATA and drinks.\n",
      "ONLY FOR LUNCH - 3 courses menù of the day €300\n",
      "\tThis preset menu includes: 1° + 2° + 3° and drinks.\n",
      "CHEESE TASTING €120\n",
      "\tThis preset menu includes: 1st + 2nd + 3rd + 4th + 5th\n",
      "5 ASSAGGI DI FORMAGGI CREATIVI €120\n",
      "\tThis preset menu includes: 1° + 2° + 3° + 4° + 5°\n",
      "MENU A LA CARTE 2 PORTATE A SCELTA €220\n",
      "\tThis preset menu includes: Entrée + Dessert\n",
      "MENU A LA CARTE 2 COURSE OF YOUR CHOICE €220\n",
      "\tThis preset menu includes: Entrée + Dessert\n",
      "MENU A LA CARTE 3 PIATTI A SCELTA €260\n",
      "\tThis preset menu includes: Appetizer + Entrée + Dessert\n",
      "MENU A LA CARTE 3 COURSES OF YOUR CHOICE €260\n",
      "\tThis preset menu includes: Appetizer + Entrée + Dessert\n",
      "MENù A LA CARTE 4 PORTATE A SCELTA €300\n",
      "\tThis preset menu includes: Appetizer + Entrée + Entrée + Dessert\n"
     ]
    }
   ],
   "source": [
    "# Offers in the restaurant\n",
    "for offer in restaurant_data[\"offers\"][:-5]:\n",
    "    print(offer[\"name\"])\n",
    "    print(\"\\t\"+offer[\"description\"])"
   ]
  },
  {
   "cell_type": "code",
   "execution_count": 59,
   "metadata": {},
   "outputs": [
    {
     "name": "stdout",
     "output_type": "stream",
     "text": [
      "À la carte\n",
      "Dessert a scelta\n",
      "\tMela e spezie\n",
      "\tSoufflè al guanaja, arachide salato, ananas al rhum, aceto di cocco e sesamo tostato\n",
      "\tAgrumi e agrumi\n",
      "\tAd un passo dal caffè\n",
      " piatti a scelta\n",
      "\t2 piatti a scelta\n",
      "\t3 piatti a scelta\n",
      "\t4 piatti a scelta\n",
      "SOLO A PRANZO - 3 portate del giorno €300\n",
      "1° PORTATA\n",
      "\tProposta dello Chef\n",
      "2° PORTATA\n",
      "\tProposta dello Chef\n",
      "3° PORTATA\n",
      "\tProposta dello Chef\n",
      "Drinks\n",
      "\tAcqua, vino e caffè\n",
      "ONLY FOR LUNCH - 3 courses menù of the day €300\n",
      "1°\n",
      "\tCHEF'S PROPOSAL\n",
      "2°\n",
      "\tCHEF'S PROPOSAL\n",
      "3°\n",
      "\tCHEF'S PROPOSAL\n",
      "Drinks\n",
      "\tWater, wine and coffee\n",
      "CHEESE TASTING €120\n",
      "1st\n",
      "\tFontina \"Estrema di Alpeggio\", toasted bread with red fruits, spices, flowers and sour herbs\n",
      "2nd\n",
      "\tComtè 24 months, american potato, hazelnut and balsamic vinegar\n",
      "3rd\n",
      "\tGorgonzola 250 days, white chocolate and anise\n",
      "4th\n",
      "\t\"Boscasso\" goat cheese in ash, its yoghurt, sunflower seeds and 3 flavour herbal tea\n",
      "5th\n",
      "\t\"Storico Ribelle\" 2005 and Taggiasca crispy chips\n",
      "5 ASSAGGI DI FORMAGGI CREATIVI €120\n",
      "1°\n",
      "\tFontina estrema di alpeggio, pane tostato ai frutti rossi, spezie, fiori ed erbe acidule\n",
      "2°\n",
      "\tComtè, patata americana, nocciola ed aceto balsamico\n",
      "3°\n",
      "\tGorgonzola 250 giorni, cioccolato bianco e anice\n",
      "4°\n",
      "\tCaprino “boscasso” in cenere, il suo yogurt, semi di girasole e tisana ai 3 sapori\n",
      "5°\n",
      "\t“Storico ribelle” 2005 e croccante di taggiasca\n",
      "MENU A LA CARTE 2 PORTATE A SCELTA €220\n",
      "Entrée\n",
      "\t1\n",
      "Dessert\n",
      "\t2\n",
      "MENU A LA CARTE 2 COURSE OF YOUR CHOICE €220\n",
      "Entrée\n",
      "\t1\n",
      "Dessert\n",
      "\t2\n",
      "MENU A LA CARTE 3 PIATTI A SCELTA €260\n",
      "Appetizer\n",
      "\t1\n",
      "Entrée\n",
      "\t2\n",
      "Dessert\n",
      "\t3\n",
      "MENU A LA CARTE 3 COURSES OF YOUR CHOICE €260\n",
      "Appetizer\n",
      "\t1\n",
      "Entrée\n",
      "\t2\n",
      "Dessert\n",
      "\t3\n",
      "MENù A LA CARTE 4 PORTATE A SCELTA €300\n",
      "Appetizer\n",
      "\t1\n",
      "Entrée\n",
      "\t2\n",
      "Entrée\n",
      "\t3\n",
      "Dessert\n",
      "\t4\n",
      "MENU A LA CARTE 4 COURSES OF YOUR CHOICE €300\n",
      "Appetizer\n",
      "\t1\n",
      "Entrée\n",
      "\t2\n",
      "Entrée\n",
      "\t3\n",
      "Dessert\n",
      "\t4\n",
      "MUDEC EXPERIENCE  €375\n",
      "1° PORTATA\n",
      "\tAsparago bianco, fiori di arancio e parmigiano\n",
      "2°PORTATA\n",
      "\tSfera minerale, erba cristallina e ostrica del Delta del Po\n",
      "3° PORTATA\n",
      "\tSpaghetto verde, aglio orsino, senape, alici e caviale\n",
      "4° PORTATA\n",
      "\tRombo in crosta di alghe, barbabietola e Garusoli\n",
      "5° PORTATA\n",
      "\tBottoni di olio e lime in salsa cacciucco e polpo\n",
      "6° PORTATA\n",
      "\tRisotto alle rape rosse e salsa gorgonzola \"Evoluzione\"\n",
      "7° PORTATA\n",
      "\tCarciofo spinoso e antico suino bianco \"Lucano\"\n",
      "8° PORTATA\n",
      "\tAnimella al curry, Mastiha e carote\n",
      "9° PORTATA\n",
      "\tAgnello Alta Langa\n",
      "Dessert a scelta\n",
      "\tMela e spezie\n",
      "\tSoufflè al Guanaja, arachide salato, ananas al rhum, aceto di cocco e sesamo tostato\n",
      "\tAgrumi e agrumi\n",
      "\tFragola, rabarbaro e viole\n",
      "MUDEC EXPERIENCE CON ABBINAMENTO VINI €665\n",
      "1° PORTATA\n",
      "\tAsparago bianco, fiori d'arancio e parmigiano\n",
      "\tRombo in crosta di alghe, barbabietola e Garusoli\n",
      "2° PORTATA\n",
      "\tSfera minerale, erba cristallina e ostrica del Delta del Po\n",
      "3° PORTATA\n",
      "\tSpaghetto verde, aglio Orsino, senape, alici e caviale\n",
      "4° PORTATA\n",
      "\tRombo in crosta di alghe, barbabietola e Garusoli\n",
      "5° PORTATA\n",
      "\tBottoni di olio e lime in salsa cacciucco e polpo\n",
      "6° PORTATA\n",
      "\tRisotto alle rape rosse e salsa gorgonzola \"Evoluzione\"\n",
      "7° PORTATA\n",
      "\tCarciofo spinoso e antico suino bianco \"Lucano\"\n",
      "8° PORTATA\n",
      "\tAnimella al curry, Mastiha e carote\n",
      "9° PORTATA\n",
      "\tAgnello Alta Langa\n",
      "Dessert a scelta\n",
      "\tMela e spezie\n",
      "\tSoufflè al Guanaja, arachide salato, ananas al rhum, aceto di cocco e sesamo tostato\n",
      "\tAgrumi e agrumi\n",
      "\tFragola, rabarbaro e viole\n",
      "Drinks\n",
      "\tacqua e vino in abbinamento\n",
      "MUDEC EXPERIENCE €375\n",
      "1st COURSE\n",
      "\tWhite asparagus, orange blossom and parmesan cheese\n",
      "2nd COURSE\n",
      "\tMineral sphere, crystal grass and oyster from \"Delta del Po\"\n",
      "3rd COURSE\n",
      "\tGreen spaghetti, \"Orsino\" garlic, mustard, anchovies and caviar\n",
      "4th COURSE\n",
      "\tSeaweed crusted turbot, beetroot and sea snails\n",
      "5th COURSE\n",
      "\tBottoni filled with oil and lime, octopus and cacciucco sauce\n",
      "6th COURSE\n",
      "\tBeetroots risotto with gorgonzola cheese sauce \"Evolution\"\n",
      "7th COURSE\n",
      "\tArtichoke and ancient \"Lucano\" Pork\n",
      "8th COURSE\n",
      "\tVeal sweetbread with curry, Mastiha and carrots\n",
      "9th COURSE\n",
      "\t\"Alta Langa\" Lamb\n",
      "DESSERT OF YOUR CHOICE\n",
      "\tApple and spices\n",
      "\tGanaja soufflèe, salted peanut, rum pineapple, coconut vinegar and toasted sesame\n",
      "\tCitrus fruits\n",
      "\tOne step away from coffee\n",
      "MUDEC EXPERIENCE with wine pairing  €665\n",
      "1ST COURSE\n",
      "\tWhite asparagus orange blossom and parmesan cheese\n",
      "2nd COURSE\n",
      "\tMineral sphere crystal grass and oyster from \"Delta del Po\"\n",
      "3rd COURSE\n",
      "\tGreen Spaghetti, \"Orsino\" garlic, mustard, anchovies and cav\n",
      "4th COURSE\n",
      "\tSeaweed crusted turbot, beetroot and sea snails\n",
      "5th COURSE\n",
      "\tBottoni filled with olive oil and lime, octopus and cacciucco sauce\n",
      "6th COURSE\n",
      "\tBeetroots risotto with gorgonzola cheese sauce \"Evolution“\n",
      "7th COURSE\n",
      "\tArtichoke and ancient \"Lucano\" white pork\n",
      "8th COURSE\n",
      "\tVeal sweetbread with curry, Mastiha and carrots\n",
      "9th COURSE\n",
      "\t\"Alta Langa\"Lamb\n",
      "Dessert of your choice\n",
      "\tApple and spices\n",
      "\tGuanaja soufflé, salted peanut, pineapple in rum, coconut vinegar and toasted sesame\n",
      "\tStrawberry, rhubarb and violets\n",
      "\tCitrus fruits\n",
      "Drinks\n",
      "\tWine pairing\n"
     ]
    }
   ],
   "source": [
    "# Menu details\n",
    "for menu in restaurant_data[\"menus\"]:\n",
    "    print(menu[\"name\"])\n",
    "    for section in menu[\"sections\"]:\n",
    "        print(section[\"name\"])\n",
    "        for dish in section[\"items\"]:\n",
    "            print(\"\\t\"+dish[\"name\"])\n"
   ]
  }
 ],
 "metadata": {
  "kernelspec": {
   "display_name": "adaexam",
   "language": "python",
   "name": "python3"
  },
  "language_info": {
   "codemirror_mode": {
    "name": "ipython",
    "version": 3
   },
   "file_extension": ".py",
   "mimetype": "text/x-python",
   "name": "python",
   "nbconvert_exporter": "python",
   "pygments_lexer": "ipython3",
   "version": "3.9.7"
  }
 },
 "nbformat": 4,
 "nbformat_minor": 2
}
